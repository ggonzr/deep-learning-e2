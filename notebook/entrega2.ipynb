{
 "cells": [
  {
   "cell_type": "markdown",
   "id": "181d0004-5748-4842-bf8b-0b26de5a9439",
   "metadata": {},
   "source": [
    "# Entrega 2"
   ]
  },
  {
   "cell_type": "markdown",
   "id": "b4b98d1e-16bf-46c2-9b18-fd9c9a3575b2",
   "metadata": {},
   "source": [
    "## Librerias"
   ]
  },
  {
   "cell_type": "code",
   "execution_count": 66,
   "id": "c0e584eb-0ac9-40d9-89f0-6ccfa245f549",
   "metadata": {},
   "outputs": [],
   "source": [
    "from sklearn.preprocessing import MinMaxScaler\n",
    "from typing import List\n",
    "from matplotlib import colors\n",
    "\n",
    "import rasterio as rio\n",
    "import rasterio.plot as rio_plot\n",
    "import seaborn as sns\n",
    "import matplotlib.pyplot as plt\n",
    "import pandas as pd\n",
    "import numpy as np\n",
    "import glob\n",
    "import json\n",
    "\n",
    "# Semilla pseudoaleatoria\n",
    "np.random.seed(24)\n",
    "\n",
    "# Tamaño de las figuras\n",
    "plt.rcParams[\"figure.figsize\"] = (20,10)\n",
    "\n",
    "# Ruta base de la carpeta de datos\n",
    "DATA_BASE = \"/home/ubuntu/deeplearn/deep-learning-e2/datos\""
   ]
  },
  {
   "cell_type": "markdown",
   "id": "4512c542-5b0a-474a-9e84-682258e31976",
   "metadata": {},
   "source": [
    "## Exploración"
   ]
  },
  {
   "cell_type": "markdown",
   "id": "cf494303-8394-4ddd-aebb-c7c3840807e4",
   "metadata": {},
   "source": [
    "En este apartado vamos a explorar algunas imagenes del conjunto de datos, los archivos que contiene la etiqueta de la imagen y la máscara."
   ]
  },
  {
   "cell_type": "markdown",
   "id": "4d61c6a8-4fd1-408f-ba6c-73cd06c62fc0",
   "metadata": {},
   "source": [
    "### Carga de imágenes"
   ]
  },
  {
   "cell_type": "markdown",
   "id": "2e9f1e28-b4c7-4310-930f-7333ee97c75f",
   "metadata": {},
   "source": [
    "A continuación vamos a buscar las rutas de acceso a las imagenes. Dado a que el conjunto de etiquetas es más pequeño que las imagenes, vamos a emplear un conjunto reducido tal que tengamos etiquetas para todas la imagenes a emplear"
   ]
  },
  {
   "cell_type": "code",
   "execution_count": 2,
   "id": "f83466ea-ec7e-4af0-a650-a7a9e8dd1cc7",
   "metadata": {},
   "outputs": [],
   "source": [
    "# Directorios de las etiquetas y la imagenes\n",
    "LABEL_DIR = f\"{DATA_BASE}/su_african_crops_ghana_labels\"\n",
    "IMAGE_DIR = f\"{DATA_BASE}/su_african_crops_ghana_source_s2\""
   ]
  },
  {
   "cell_type": "code",
   "execution_count": 3,
   "id": "9d5da36d-e85e-4014-ad12-24c5c520fd5f",
   "metadata": {},
   "outputs": [
    {
     "name": "stdout",
     "output_type": "stream",
     "text": [
      "Número de etiquetas disponibles: 4042\n"
     ]
    }
   ],
   "source": [
    "# Listar los subdirectorios de cada carpeta: Etiquetas\n",
    "label_dirs = glob.glob(f\"{LABEL_DIR}/*\")\n",
    "print(f\"Número de etiquetas disponibles: {len(label_dirs)}\")"
   ]
  },
  {
   "cell_type": "code",
   "execution_count": 4,
   "id": "9d4c3733-e58c-45a3-b0a7-dab5981dfb93",
   "metadata": {},
   "outputs": [
    {
     "name": "stdout",
     "output_type": "stream",
     "text": [
      "Número de etiquetas disponibles: 130212\n"
     ]
    }
   ],
   "source": [
    "# Listar los subdirectorios de cada carpeta: Etiquetas\n",
    "image_dirs = glob.glob(f\"{IMAGE_DIR}/*\")\n",
    "print(f\"Número de etiquetas disponibles: {len(image_dirs)}\")"
   ]
  },
  {
   "cell_type": "markdown",
   "id": "aab1d954-bb3d-412d-bd21-8a5c0f5ae631",
   "metadata": {},
   "source": [
    "A continuación vamos a seleccionar solo el subconjunto de las imagenes con etiqueta"
   ]
  },
  {
   "cell_type": "code",
   "execution_count": 5,
   "id": "714bdf49-a8bb-451f-b5a5-0b4879e3ecf5",
   "metadata": {},
   "outputs": [],
   "source": [
    "def filter_path(path_f: str, label_dirs: List[str]) -> bool:\n",
    "    \"\"\"\n",
    "    Nos permite filtar la ruta de la imagen para determinar\n",
    "    si esta tiene una máscara asociada.\n",
    "    \"\"\"\n",
    "    try:\n",
    "        # Filtro para la carpeta de interés\n",
    "        name = path_f.split(\"/\")[-1]        \n",
    "\n",
    "        # Filtro para la etiqueta de la imagen\n",
    "        # El patrón parece ser el siguiente\n",
    "        # Nombre_source_<Sensor>_<ID>_<Fecha de toma>\n",
    "        img_id = name.split(\"_\")[6]        \n",
    "\n",
    "        # Colocar el patrón como se nombran las imágenes\n",
    "        label_tag = f\"{LABEL_DIR}/su_african_crops_ghana_labels_{img_id}\"\n",
    "\n",
    "        # Validar si existe\n",
    "        return label_tag in label_dirs\n",
    "    except:\n",
    "        return False"
   ]
  },
  {
   "cell_type": "code",
   "execution_count": 6,
   "id": "b2732024-2680-4582-b027-efceaa9a1f82",
   "metadata": {},
   "outputs": [],
   "source": [
    "# Filtrar\n",
    "image_dirs_2 = [\n",
    "    tag\n",
    "    for tag in image_dirs\n",
    "    if filter_path(path_f=tag, label_dirs=label_dirs)\n",
    "]"
   ]
  },
  {
   "cell_type": "code",
   "execution_count": 7,
   "id": "f205f0e9-3926-46a2-af87-7a0d67bb8a6e",
   "metadata": {},
   "outputs": [
    {
     "name": "stdout",
     "output_type": "stream",
     "text": [
      "Imagenes con etiqueta: 130210\n"
     ]
    }
   ],
   "source": [
    "print(f\"Imagenes con etiqueta: {len(image_dirs_2)}\")"
   ]
  },
  {
   "cell_type": "markdown",
   "id": "1e864de1-aec9-4ac2-a343-cba362bfed1f",
   "metadata": {},
   "source": [
    "Como podemos observar, tenemos todas las etiquetas para todas las regiones del dataset. Lo anterior implica que el número de 4042 indica los cultivos disponibles para realizar el análisis. Para mayor facilidad de acceso, vamos a agrupar todas las regiones en una vista que nos permita acceder rápidamente tanto a las imágenes disponibles de la región como a su máscara"
   ]
  },
  {
   "cell_type": "code",
   "execution_count": 8,
   "id": "3603049d-b9cc-4d91-857d-9a299b460a1a",
   "metadata": {},
   "outputs": [],
   "source": [
    "# Diccionario para almacenar los datos\n",
    "# La llave será el ID de la región y su valor serán dos listas:\n",
    "# La primera con la ruta de las imagenes\n",
    "# La segunda con la máscara (espero solo sea una)\n",
    "regions_img_labels = {}"
   ]
  },
  {
   "cell_type": "markdown",
   "id": "a809a03a-cbb2-494a-bc79-9f863191c955",
   "metadata": {},
   "source": [
    "Generar la vista para las máscaras"
   ]
  },
  {
   "cell_type": "code",
   "execution_count": 9,
   "id": "4cc34bcd-78ac-470f-9638-a78bbb8bab46",
   "metadata": {},
   "outputs": [],
   "source": [
    "for label_mask in label_dirs:\n",
    "    mask_name = label_mask.split(\"/\")[-1]\n",
    "    mask_id = mask_name.split(\"_\")[-1]\n",
    "    \n",
    "    if mask_id not in regions_img_labels:\n",
    "        # Nueva entrada\n",
    "        entry_data = {\n",
    "            \"images\": [],\n",
    "            \"masks\": [label_mask]\n",
    "        }\n",
    "        \n",
    "        # Agregar la entrada al diccionario principal\n",
    "        regions_img_labels[mask_id] = entry_data\n",
    "    else:\n",
    "        # Consultar el diccionario y agregar la otra máscara\n",
    "        regions_img_labels[mask_id][\"masks\"].append(label_mask)       "
   ]
  },
  {
   "cell_type": "code",
   "execution_count": 10,
   "id": "0be37b72-2304-4bac-b05d-1132b66f96a2",
   "metadata": {},
   "outputs": [
    {
     "name": "stdout",
     "output_type": "stream",
     "text": [
      "Regiones disponibles: 4042\n"
     ]
    }
   ],
   "source": [
    "print(f\"Regiones disponibles: {len(regions_img_labels.keys())}\")"
   ]
  },
  {
   "cell_type": "markdown",
   "id": "28b1e08d-59ca-49c1-9b17-e24848f47173",
   "metadata": {},
   "source": [
    "Generar la vista para las imagenes"
   ]
  },
  {
   "cell_type": "code",
   "execution_count": 11,
   "id": "39760088-0bf5-4930-a859-c39f5d515a82",
   "metadata": {},
   "outputs": [],
   "source": [
    "for image_path in image_dirs:\n",
    "    try:        \n",
    "        # Filtrar el nombre y el ID de la imágen\n",
    "        image_name = image_path.split(\"/\")[-1]\n",
    "        image_id = image_name.split(\"_\")[6]\n",
    "\n",
    "        # Agregar en la lista\n",
    "        regions_img_labels[image_id][\"images\"].append(image_path)\n",
    "    except:\n",
    "        continue"
   ]
  },
  {
   "cell_type": "markdown",
   "id": "24648d50-a70c-46e6-891a-0e09b804ba05",
   "metadata": {},
   "source": [
    "Vamos a guardar esta vista, para realizar una carga rápida si se requiere"
   ]
  },
  {
   "cell_type": "code",
   "execution_count": 12,
   "id": "e01c1cfe-3a88-41c2-a6e2-175a467c3c36",
   "metadata": {},
   "outputs": [],
   "source": [
    "with open(f\"{DATA_BASE}/image_view.json\", \"w\", encoding=\"utf-8\") as v_f:\n",
    "    json.dump(regions_img_labels, v_f, ensure_ascii=False, indent=4)"
   ]
  },
  {
   "cell_type": "markdown",
   "id": "4544dacd-d550-4678-aef5-1bd648924b20",
   "metadata": {},
   "source": [
    "## Visualización"
   ]
  },
  {
   "cell_type": "markdown",
   "id": "363270e7-6630-4571-b04e-b81231c4adcb",
   "metadata": {},
   "source": [
    "Ya con la vista lista, vamos a seleccionar de manera aleatoria una imagen para mostrar"
   ]
  },
  {
   "cell_type": "code",
   "execution_count": 13,
   "id": "3f071a05-9110-4ef0-bcab-901abe7671f2",
   "metadata": {},
   "outputs": [
    {
     "name": "stdout",
     "output_type": "stream",
     "text": [
      "Región seleccionada: 002902\n"
     ]
    }
   ],
   "source": [
    "view_keys = list(regions_img_labels.keys())\n",
    "random_idx = np.random.randint(0, len(view_keys))\n",
    "random_key = view_keys[random_idx]\n",
    "print(f\"Región seleccionada: {random_key}\")"
   ]
  },
  {
   "cell_type": "markdown",
   "id": "aaef62b5-f906-44a8-bff5-fce8bfeb236e",
   "metadata": {},
   "source": [
    "Seguidamente vamos a seleccionar la máscara y una de las imágenes"
   ]
  },
  {
   "cell_type": "code",
   "execution_count": 20,
   "id": "94a41380-8e70-4c00-a923-6d3dbf7c6044",
   "metadata": {},
   "outputs": [],
   "source": [
    "ex_mask_folder = regions_img_labels[random_key][\"masks\"][0]\n",
    "ex_mask = glob.glob(f\"{ex_mask_folder}/labels.*\")[0]"
   ]
  },
  {
   "cell_type": "code",
   "execution_count": 51,
   "id": "497343e8-0a4e-4984-a2a4-7c33ac4bc2b7",
   "metadata": {},
   "outputs": [],
   "source": [
    "ex_img_folder = regions_img_labels[random_key][\"images\"][0]\n",
    "ex_img_source = glob.glob(f\"{ex_img_folder}/source.*\")[0]\n",
    "ex_img_cloudmask = glob.glob(f\"{ex_img_folder}/cloudmask.*\")[0]"
   ]
  },
  {
   "cell_type": "markdown",
   "id": "d30954e7-e0b1-47fb-a784-14ac291ba5ed",
   "metadata": {},
   "source": [
    "Con ello en mente tenemos las siguientes rutas"
   ]
  },
  {
   "cell_type": "code",
   "execution_count": 81,
   "id": "5cf561fd-acdf-49e8-a01d-5b63068e99be",
   "metadata": {},
   "outputs": [
    {
     "name": "stdout",
     "output_type": "stream",
     "text": [
      "Imagen base\n",
      "/home/ubuntu/deeplearn/deep-learning-e2/datos/su_african_crops_ghana_source_s2/su_african_crops_ghana_source_s2_002902_2016_10_09/source.tif\n"
     ]
    }
   ],
   "source": [
    "print(f\"Imagen base\")\n",
    "print(ex_img_source)"
   ]
  },
  {
   "cell_type": "code",
   "execution_count": 82,
   "id": "0f43997e-549d-4e7e-8c45-d61198718f67",
   "metadata": {},
   "outputs": [
    {
     "name": "stdout",
     "output_type": "stream",
     "text": [
      "Máscara de nubes\n",
      "/home/ubuntu/deeplearn/deep-learning-e2/datos/su_african_crops_ghana_source_s2/su_african_crops_ghana_source_s2_002902_2016_10_09/cloudmask.tif\n"
     ]
    }
   ],
   "source": [
    "print(f\"Máscara de nubes\")\n",
    "print(ex_img_cloudmask)"
   ]
  },
  {
   "cell_type": "code",
   "execution_count": 83,
   "id": "5d675322-fc15-4628-aed0-0135d815e70f",
   "metadata": {},
   "outputs": [
    {
     "name": "stdout",
     "output_type": "stream",
     "text": [
      "Máscara semantica\n",
      "/home/ubuntu/deeplearn/deep-learning-e2/datos/su_african_crops_ghana_labels/su_african_crops_ghana_labels_002902/labels.tif\n"
     ]
    }
   ],
   "source": [
    "print(f\"Máscara semantica\")\n",
    "print(ex_mask)"
   ]
  },
  {
   "cell_type": "markdown",
   "id": "8f5af434-30ff-4c29-a30f-6d77efbf7ec6",
   "metadata": {},
   "source": [
    "### Cargar y visualizar"
   ]
  },
  {
   "cell_type": "markdown",
   "id": "ac8969e4-4d35-43e6-a884-1d7c4de2ce89",
   "metadata": {},
   "source": [
    "Máscara"
   ]
  },
  {
   "cell_type": "code",
   "execution_count": null,
   "id": "ddfcaf76-66ee-45f1-a537-9e1693e74fdb",
   "metadata": {},
   "outputs": [],
   "source": [
    "ex_mask_rio = rio.open(ex_mask)"
   ]
  },
  {
   "cell_type": "code",
   "execution_count": 30,
   "id": "9bfc9866-e02e-4fb0-a709-0bc8db62fc80",
   "metadata": {},
   "outputs": [
    {
     "name": "stdout",
     "output_type": "stream",
     "text": [
      "Metadatos{'driver': 'GTiff', 'dtype': 'float64', 'nodata': None, 'width': 64, 'height': 64, 'count': 1, 'crs': None, 'transform': Affine(1.0, 0.0, 0.0,\n",
      "       0.0, 1.0, 0.0)}\n"
     ]
    }
   ],
   "source": [
    "print(f\"Metadatos{ex_mask_rio.meta}\")"
   ]
  },
  {
   "cell_type": "code",
   "execution_count": 46,
   "id": "6cf3a937-5371-472d-8710-dae2445eee1a",
   "metadata": {},
   "outputs": [],
   "source": [
    "cmap = plt.cm.rainbow\n",
    "norm = colors.BoundaryNorm(np.arange(0, 25, 1), cmap.N)"
   ]
  },
  {
   "cell_type": "markdown",
   "id": "d587bda0-944a-48da-8c7b-9080851e395e",
   "metadata": {},
   "source": [
    "**TODO: Configurar bien los mapas de color para mostrar las máscaras**"
   ]
  },
  {
   "cell_type": "code",
   "execution_count": 50,
   "id": "b4b2ec8c-03f9-405a-a06a-908ef59af726",
   "metadata": {},
   "outputs": [
    {
     "data": {
      "text/plain": [
       "<matplotlib.colorbar.Colorbar at 0x7f8aa57ab8d0>"
      ]
     },
     "execution_count": 50,
     "metadata": {},
     "output_type": "execute_result"
    },
    {
     "data": {
      "image/png": "[encoded data removed]",
      "text/plain": [
       "<Figure size 1440x720 with 2 Axes>"
      ]
     },
     "metadata": {
      "needs_background": "light"
     },
     "output_type": "display_data"
    }
   ],
   "source": [
    "fig, ax = plt.subplots()\n",
    "img = ax.imshow(ex_mask_rio.read(1), cmap=cmap, norm=norm)\n",
    "fig.colorbar(img, ax=ax)"
   ]
  },
  {
   "cell_type": "markdown",
   "id": "8982082b-922b-4a31-aea9-89e81e26cd60",
   "metadata": {},
   "source": [
    "Imagen"
   ]
  },
  {
   "cell_type": "code",
   "execution_count": 52,
   "id": "baaf4ba4-f237-40cb-9abf-fcb2bb2e9a88",
   "metadata": {},
   "outputs": [
    {
     "name": "stderr",
     "output_type": "stream",
     "text": [
      "/home/ubuntu/anaconda3/envs/tensorflow2_latest_p37/lib/python3.7/site-packages/rasterio/__init__.py:220: NotGeoreferencedWarning: Dataset has no geotransform, gcps, or rpcs. The identity matrix be returned.\n",
      "  s = DatasetReader(path, driver=driver, sharing=sharing, **kwargs)\n"
     ]
    }
   ],
   "source": [
    "ex_image_rio = rio.open(ex_img_source)"
   ]
  },
  {
   "cell_type": "code",
   "execution_count": 53,
   "id": "13a56968-b188-42a9-bca0-7584884a3a18",
   "metadata": {},
   "outputs": [
    {
     "name": "stdout",
     "output_type": "stream",
     "text": [
      "Metadatos{'driver': 'GTiff', 'dtype': 'uint16', 'nodata': None, 'width': 64, 'height': 64, 'count': 10, 'crs': None, 'transform': Affine(1.0, 0.0, 0.0,\n",
      "       0.0, 1.0, 0.0)}\n"
     ]
    }
   ],
   "source": [
    "print(f\"Metadatos{ex_image_rio.meta}\")"
   ]
  },
  {
   "cell_type": "markdown",
   "id": "01fef709-e30e-4b36-afe1-40e12b4b0f41",
   "metadata": {},
   "source": [
    "Como podemos observar, la imagen posee 10 bandas. A continuación, vamos a visualizar la imagen en combinación de color verdadero"
   ]
  },
  {
   "cell_type": "code",
   "execution_count": 54,
   "id": "15da2270-9416-49e8-ac6a-41e9e0258234",
   "metadata": {},
   "outputs": [],
   "source": [
    "ex_image_data = ex_image_rio.read()"
   ]
  },
  {
   "cell_type": "code",
   "execution_count": 55,
   "id": "39f73de1-9a95-4223-8ae9-ab9df70b0440",
   "metadata": {},
   "outputs": [
    {
     "data": {
      "text/plain": [
       "(10, 64, 64)"
      ]
     },
     "execution_count": 55,
     "metadata": {},
     "output_type": "execute_result"
    }
   ],
   "source": [
    "ex_image_data.shape"
   ]
  },
  {
   "cell_type": "code",
   "execution_count": 65,
   "id": "9c3a4cdc-cec6-46c7-9911-1d55288e28dc",
   "metadata": {},
   "outputs": [
    {
     "data": {
      "text/plain": [
       "array([[3687, 3690, 3672, ..., 4469, 4473, 4465],\n",
       "       [3696, 3681, 3679, ..., 4484, 4499, 4435],\n",
       "       [3747, 3743, 3722, ..., 4496, 4470, 4518],\n",
       "       ...,\n",
       "       [4784, 4786, 4830, ..., 4530, 4527, 4476],\n",
       "       [4783, 4784, 4777, ..., 4527, 4525, 4484],\n",
       "       [4822, 4831, 4800, ..., 4526, 4509, 4505]], dtype=uint16)"
      ]
     },
     "execution_count": 65,
     "metadata": {},
     "output_type": "execute_result"
    }
   ],
   "source": [
    "ex_image_data[3]"
   ]
  },
  {
   "cell_type": "code",
   "execution_count": 74,
   "id": "4145d88b-ca85-475d-ba02-d7014701ab67",
   "metadata": {},
   "outputs": [
    {
     "data": {
      "image/png": "[encoded data removed]",
      "text/plain": [
       "<Figure size 1440x720 with 1 Axes>"
      ]
     },
     "metadata": {
      "needs_background": "light"
     },
     "output_type": "display_data"
    },
    {
     "data": {
      "text/plain": [
       "<AxesSubplot:>"
      ]
     },
     "execution_count": 74,
     "metadata": {},
     "output_type": "execute_result"
    }
   ],
   "source": [
    "# Combinación RGB\n",
    "ex_image_rgb = np.array([\n",
    "    ex_image_data[4],\n",
    "    ex_image_data[3],\n",
    "    ex_image_data[2],\n",
    "])\n",
    "\n",
    "# Reescalar los datos de las bandas\n",
    "mms = MinMaxScaler(feature_range=(0, 255))\n",
    "ex_c = ex_image_rgb.copy()\n",
    "for band in range(ex_c.shape[0]):\n",
    "    ex_c[band] = mms.fit_transform(ex_c[band])\n",
    "\n",
    "# Mostrar\n",
    "rio_plot.show(ex_c)"
   ]
  },
  {
   "cell_type": "markdown",
   "id": "2b09cd2f-18fc-4c27-b805-5691bc0f9570",
   "metadata": {},
   "source": [
    "Mapa de nubes"
   ]
  },
  {
   "cell_type": "code",
   "execution_count": 76,
   "id": "3abe0cc8-06ce-4c0a-b2d1-3ab1d959350d",
   "metadata": {},
   "outputs": [
    {
     "name": "stderr",
     "output_type": "stream",
     "text": [
      "/home/ubuntu/anaconda3/envs/tensorflow2_latest_p37/lib/python3.7/site-packages/rasterio/__init__.py:220: NotGeoreferencedWarning: Dataset has no geotransform, gcps, or rpcs. The identity matrix be returned.\n",
      "  s = DatasetReader(path, driver=driver, sharing=sharing, **kwargs)\n"
     ]
    }
   ],
   "source": [
    "ex_cloud_mask = rio.open(ex_img_cloudmask)"
   ]
  },
  {
   "cell_type": "code",
   "execution_count": 77,
   "id": "ac77ea4d-d026-4ef1-b87c-3d8a0b0d164e",
   "metadata": {},
   "outputs": [
    {
     "name": "stdout",
     "output_type": "stream",
     "text": [
      "Metadatos de la máscara de nubes: {'driver': 'GTiff', 'dtype': 'float64', 'nodata': None, 'width': 64, 'height': 64, 'count': 1, 'crs': None, 'transform': Affine(1.0, 0.0, 0.0,\n",
      "       0.0, 1.0, 0.0)}\n"
     ]
    }
   ],
   "source": [
    "print(f\"Metadatos de la máscara de nubes: {ex_cloud_mask.meta}\")"
   ]
  },
  {
   "cell_type": "code",
   "execution_count": 80,
   "id": "5a7cfdcc-1ae5-4340-b778-ccd9fb2fcfdc",
   "metadata": {},
   "outputs": [
    {
     "data": {
      "text/plain": [
       "<matplotlib.colorbar.Colorbar at 0x7f8aa51abe10>"
      ]
     },
     "execution_count": 80,
     "metadata": {},
     "output_type": "execute_result"
    },
    {
     "data": {
      "image/png": "[encoded data removed]",
      "text/plain": [
       "<Figure size 1440x720 with 2 Axes>"
      ]
     },
     "metadata": {
      "needs_background": "light"
     },
     "output_type": "display_data"
    }
   ],
   "source": [
    "fig, ax = plt.subplots()\n",
    "img = ax.imshow(ex_cloud_mask.read(1), cmap=cmap, norm=norm)\n",
    "fig.colorbar(img, ax=ax)"
   ]
  }
 ],
 "metadata": {
  "kernelspec": {
   "display_name": "Environment (conda_tensorflow2_latest_p37)",
   "language": "python",
   "name": "conda_tensorflow2_latest_p37"
  },
  "language_info": {
   "codemirror_mode": {
    "name": "ipython",
    "version": 3
   },
   "file_extension": ".py",
   "mimetype": "text/x-python",
   "name": "python",
   "nbconvert_exporter": "python",
   "pygments_lexer": "ipython3",
   "version": "3.7.10"
  }
 },
 "nbformat": 4,
 "nbformat_minor": 5
}
