{
 "cells": [
  {
   "cell_type": "markdown",
   "id": "181d0004-5748-4842-bf8b-0b26de5a9439",
   "metadata": {},
   "source": [
    "# Entrega 2"
   ]
  },
  {
   "cell_type": "markdown",
   "id": "b4b98d1e-16bf-46c2-9b18-fd9c9a3575b2",
   "metadata": {},
   "source": [
    "## Librerias"
   ]
  },
  {
   "cell_type": "code",
   "execution_count": 54,
   "id": "c0e584eb-0ac9-40d9-89f0-6ccfa245f549",
   "metadata": {},
   "outputs": [],
   "source": [
    "from rasterio.plot import show as rio_show\n",
    "from sklearn.preprocessing import MinMaxScaler\n",
    "from typing import List\n",
    "\n",
    "import rasterio as rio\n",
    "import seaborn as sns\n",
    "import matplotlib.pyplot as plt\n",
    "import pandas as pd\n",
    "import numpy as np\n",
    "import glob\n",
    "import json\n",
    "\n",
    "# Semilla pseudoaleatoria\n",
    "np.random.seed(24)\n",
    "\n",
    "# Tamaño de las figuras\n",
    "plt.rcParams[\"figure.figsize\"] = (20,10)\n",
    "\n",
    "# Ruta base de la carpeta de datos\n",
    "DATA_BASE = \"/home/ubuntu/deeplearn/deep-learning-e2/datos\""
   ]
  },
  {
   "cell_type": "markdown",
   "id": "4512c542-5b0a-474a-9e84-682258e31976",
   "metadata": {},
   "source": [
    "## Exploración"
   ]
  },
  {
   "cell_type": "markdown",
   "id": "cf494303-8394-4ddd-aebb-c7c3840807e4",
   "metadata": {},
   "source": [
    "En este apartado vamos a explorar algunas imagenes del conjunto de datos, los archivos que contiene la etiqueta de la imagen y la máscara."
   ]
  },
  {
   "cell_type": "markdown",
   "id": "4d61c6a8-4fd1-408f-ba6c-73cd06c62fc0",
   "metadata": {},
   "source": [
    "### Carga de imágenes"
   ]
  },
  {
   "cell_type": "markdown",
   "id": "2e9f1e28-b4c7-4310-930f-7333ee97c75f",
   "metadata": {},
   "source": [
    "A continuación vamos a buscar las rutas de acceso a las imagenes. Dado a que el conjunto de etiquetas es más pequeño que las imagenes, vamos a emplear un conjunto reducido tal que tengamos etiquetas para todas la imagenes a emplear"
   ]
  },
  {
   "cell_type": "code",
   "execution_count": 4,
   "id": "f83466ea-ec7e-4af0-a650-a7a9e8dd1cc7",
   "metadata": {},
   "outputs": [],
   "source": [
    "# Directorios de las etiquetas y la imagenes\n",
    "LABEL_DIR = f\"{DATA_BASE}/su_african_crops_ghana_labels\"\n",
    "IMAGE_DIR = f\"{DATA_BASE}/su_african_crops_ghana_source_s2\""
   ]
  },
  {
   "cell_type": "code",
   "execution_count": 10,
   "id": "9d5da36d-e85e-4014-ad12-24c5c520fd5f",
   "metadata": {},
   "outputs": [
    {
     "name": "stdout",
     "output_type": "stream",
     "text": [
      "Número de etiquetas disponibles: 4042\n"
     ]
    }
   ],
   "source": [
    "# Listar los subdirectorios de cada carpeta: Etiquetas\n",
    "label_dirs = glob.glob(f\"{LABEL_DIR}/*\")\n",
    "print(f\"Número de etiquetas disponibles: {len(label_dirs)}\")"
   ]
  },
  {
   "cell_type": "code",
   "execution_count": 11,
   "id": "9d4c3733-e58c-45a3-b0a7-dab5981dfb93",
   "metadata": {},
   "outputs": [
    {
     "name": "stdout",
     "output_type": "stream",
     "text": [
      "Número de etiquetas disponibles: 130212\n"
     ]
    }
   ],
   "source": [
    "# Listar los subdirectorios de cada carpeta: Etiquetas\n",
    "image_dirs = glob.glob(f\"{IMAGE_DIR}/*\")\n",
    "print(f\"Número de etiquetas disponibles: {len(image_dirs)}\")"
   ]
  },
  {
   "cell_type": "markdown",
   "id": "aab1d954-bb3d-412d-bd21-8a5c0f5ae631",
   "metadata": {},
   "source": [
    "A continuación vamos a seleccionar solo el subconjunto de las imagenes con etiqueta"
   ]
  },
  {
   "cell_type": "code",
   "execution_count": 32,
   "id": "714bdf49-a8bb-451f-b5a5-0b4879e3ecf5",
   "metadata": {},
   "outputs": [],
   "source": [
    "def filter_path(path_f: str, label_dirs: List[str]) -> bool:\n",
    "    \"\"\"\n",
    "    Nos permite filtar la ruta de la imagen para determinar\n",
    "    si esta tiene una máscara asociada.\n",
    "    \"\"\"\n",
    "    try:\n",
    "        # Filtro para la carpeta de interés\n",
    "        name = path_f.split(\"/\")[-1]        \n",
    "\n",
    "        # Filtro para la etiqueta de la imagen\n",
    "        # El patrón parece ser el siguiente\n",
    "        # Nombre_source_<Sensor>_<ID>_<Fecha de toma>\n",
    "        img_id = name.split(\"_\")[6]        \n",
    "\n",
    "        # Colocar el patrón como se nombran las imágenes\n",
    "        label_tag = f\"{LABEL_DIR}/su_african_crops_ghana_labels_{img_id}\"\n",
    "\n",
    "        # Validar si existe\n",
    "        return label_tag in label_dirs\n",
    "    except:\n",
    "        return False"
   ]
  },
  {
   "cell_type": "code",
   "execution_count": 33,
   "id": "b2732024-2680-4582-b027-efceaa9a1f82",
   "metadata": {},
   "outputs": [],
   "source": [
    "# Filtrar\n",
    "image_dirs_2 = [\n",
    "    tag\n",
    "    for tag in image_dirs\n",
    "    if filter_path(path_f=tag, label_dirs=label_dirs)\n",
    "]"
   ]
  },
  {
   "cell_type": "code",
   "execution_count": 34,
   "id": "f205f0e9-3926-46a2-af87-7a0d67bb8a6e",
   "metadata": {},
   "outputs": [
    {
     "name": "stdout",
     "output_type": "stream",
     "text": [
      "Imagenes con etiqueta: 130210\n"
     ]
    }
   ],
   "source": [
    "print(f\"Imagenes con etiqueta: {len(image_dirs_2)}\")"
   ]
  },
  {
   "cell_type": "markdown",
   "id": "1e864de1-aec9-4ac2-a343-cba362bfed1f",
   "metadata": {},
   "source": [
    "Como podemos observar, tenemos todas las etiquetas para todas las regiones del dataset. Lo anterior implica que el número de 4042 indica los cultivos disponibles para realizar el análisis. Para mayor facilidad de acceso, vamos a agrupar todas las regiones en una vista que nos permita acceder rápidamente tanto a las imágenes disponibles de la región como a su máscara"
   ]
  },
  {
   "cell_type": "code",
   "execution_count": 50,
   "id": "3603049d-b9cc-4d91-857d-9a299b460a1a",
   "metadata": {},
   "outputs": [],
   "source": [
    "# Diccionario para almacenar los datos\n",
    "# La llave será el ID de la región y su valor serán dos listas:\n",
    "# La primera con la ruta de las imagenes\n",
    "# La segunda con la máscara (espero solo sea una)\n",
    "regions_img_labels = {}"
   ]
  },
  {
   "cell_type": "markdown",
   "id": "a809a03a-cbb2-494a-bc79-9f863191c955",
   "metadata": {},
   "source": [
    "Generar la vista para las máscaras"
   ]
  },
  {
   "cell_type": "code",
   "execution_count": 51,
   "id": "4cc34bcd-78ac-470f-9638-a78bbb8bab46",
   "metadata": {},
   "outputs": [],
   "source": [
    "for label_mask in label_dirs:\n",
    "    mask_name = label_mask.split(\"/\")[-1]\n",
    "    mask_id = mask_name.split(\"_\")[-1]\n",
    "    \n",
    "    if mask_id not in regions_img_labels:\n",
    "        # Nueva entrada\n",
    "        entry_data = {\n",
    "            \"images\": [],\n",
    "            \"masks\": [label_mask]\n",
    "        }\n",
    "        \n",
    "        # Agregar la entrada al diccionario principal\n",
    "        regions_img_labels[mask_id] = entry_data\n",
    "    else:\n",
    "        # Consultar el diccionario y agregar la otra máscara\n",
    "        regions_img_labels[mask_id][\"masks\"].append(label_mask)       "
   ]
  },
  {
   "cell_type": "code",
   "execution_count": 52,
   "id": "0be37b72-2304-4bac-b05d-1132b66f96a2",
   "metadata": {},
   "outputs": [
    {
     "name": "stdout",
     "output_type": "stream",
     "text": [
      "Regiones disponibles: 4042\n"
     ]
    }
   ],
   "source": [
    "print(f\"Regiones disponibles: {len(regions_img_labels.keys())}\")"
   ]
  },
  {
   "cell_type": "markdown",
   "id": "28b1e08d-59ca-49c1-9b17-e24848f47173",
   "metadata": {},
   "source": [
    "Generar la vista para las imagenes"
   ]
  },
  {
   "cell_type": "code",
   "execution_count": 53,
   "id": "39760088-0bf5-4930-a859-c39f5d515a82",
   "metadata": {},
   "outputs": [],
   "source": [
    "for image_path in image_dirs:\n",
    "    try:        \n",
    "        # Filtrar el nombre y el ID de la imágen\n",
    "        image_name = image_path.split(\"/\")[-1]\n",
    "        image_id = image_name.split(\"_\")[6]\n",
    "\n",
    "        # Agregar en la lista\n",
    "        regions_img_labels[image_id][\"images\"].append(image_path)\n",
    "    except:\n",
    "        continue"
   ]
  },
  {
   "cell_type": "markdown",
   "id": "24648d50-a70c-46e6-891a-0e09b804ba05",
   "metadata": {},
   "source": [
    "Vamos a guardar esta vista, para realizar una carga rápida si se requiere"
   ]
  },
  {
   "cell_type": "code",
   "execution_count": 56,
   "id": "e01c1cfe-3a88-41c2-a6e2-175a467c3c36",
   "metadata": {},
   "outputs": [],
   "source": [
    "with open(f\"{DATA_BASE}/image_view.json\", \"w\", encoding=\"utf-8\") as v_f:\n",
    "    json.dump(regions_img_labels, v_f, ensure_ascii=False, indent=4)"
   ]
  },
  {
   "cell_type": "markdown",
   "id": "4544dacd-d550-4678-aef5-1bd648924b20",
   "metadata": {},
   "source": [
    "## Visualización"
   ]
  },
  {
   "cell_type": "markdown",
   "id": "363270e7-6630-4571-b04e-b81231c4adcb",
   "metadata": {},
   "source": [
    "Ya con la vista lista, vamos a seleccionar de manera aleatoria una imagen para mostrar"
   ]
  },
  {
   "cell_type": "code",
   "execution_count": 58,
   "id": "3f071a05-9110-4ef0-bcab-901abe7671f2",
   "metadata": {},
   "outputs": [
    {
     "name": "stdout",
     "output_type": "stream",
     "text": [
      "Región seleccionada: 000815\n"
     ]
    }
   ],
   "source": [
    "view_keys = list(regions_img_labels.keys())\n",
    "random_idx = np.random.randint(0, len(view_keys))\n",
    "random_key = view_keys[random_idx]\n",
    "print(f\"Región seleccionada: {random_key}\")"
   ]
  },
  {
   "cell_type": "markdown",
   "id": "aaef62b5-f906-44a8-bff5-fce8bfeb236e",
   "metadata": {},
   "source": [
    "Seguidamente vamos a seleccionar la máscara y una de las imágenes"
   ]
  },
  {
   "cell_type": "code",
   "execution_count": 61,
   "id": "94a41380-8e70-4c00-a923-6d3dbf7c6044",
   "metadata": {},
   "outputs": [],
   "source": [
    "ex_mask_folder = regions_img_labels[random_key][\"masks\"][0]\n",
    "ex_mask = f\"{ex_mask_folder}/labels.tiff\""
   ]
  },
  {
   "cell_type": "code",
   "execution_count": 63,
   "id": "497343e8-0a4e-4984-a2a4-7c33ac4bc2b7",
   "metadata": {},
   "outputs": [],
   "source": [
    "ex_img_folder = regions_img_labels[random_key][\"images\"][0]\n",
    "ex_img_source = f\"{ex_img_folder}/source.tiff\"\n",
    "ex_img_cloudmask = f\"{ex_img_folder}/cloudmask.tiff\""
   ]
  }
 ],
 "metadata": {
  "kernelspec": {
   "display_name": "Environment (conda_tensorflow2_latest_p37)",
   "language": "python",
   "name": "conda_tensorflow2_latest_p37"
  },
  "language_info": {
   "codemirror_mode": {
    "name": "ipython",
    "version": 3
   },
   "file_extension": ".py",
   "mimetype": "text/x-python",
   "name": "python",
   "nbconvert_exporter": "python",
   "pygments_lexer": "ipython3",
   "version": "3.7.10"
  }
 },
 "nbformat": 4,
 "nbformat_minor": 5
}
