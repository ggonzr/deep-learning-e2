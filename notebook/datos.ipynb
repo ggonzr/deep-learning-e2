{
 "cells": [
  {
   "cell_type": "markdown",
   "id": "badc37c2-cd2c-4a9e-b374-44e14eccd435",
   "metadata": {},
   "source": [
    "# Descarga de datos"
   ]
  },
  {
   "cell_type": "markdown",
   "id": "5f23fc25-43c3-4806-bd48-a8510bfb16d8",
   "metadata": {},
   "source": [
    "Este notebook detalla el proceso de descarga de los datos desde la plataforma de Radiant MLHub. Para acceder al contenido de esta plataforma es necesario registrarse en la plataforma y crear un API Key. En el siguiente enlace podrá acceder a la página principal de esta plataforma, por favor haga clic en el botón **Sign up for API access** para poder registrarse y obtener un API Key. En caso de solicitar ayuda, el equipo queda atento a sus solicitudes vía correo"
   ]
  },
  {
   "cell_type": "markdown",
   "id": "0b9f337d-b84d-4d40-9465-a55a5a25d0ff",
   "metadata": {},
   "source": [
    "Página principal de *Radiant MLHub*: [Enlace](https://mlhub.earth/)"
   ]
  },
  {
   "cell_type": "markdown",
   "id": "a41153a7-0fac-4289-9dcf-45ba5ffe386e",
   "metadata": {},
   "source": [
    "## Configuración del cliente de descarga"
   ]
  },
  {
   "cell_type": "markdown",
   "id": "619b6bc0-0c86-41a7-8691-14cdc8687dc9",
   "metadata": {},
   "source": [
    "A continuación vamos a descargar y configurar el cliente de descarga y su API Key"
   ]
  },
  {
   "cell_type": "code",
   "execution_count": 1,
   "id": "91696ee8-ddf8-4d9b-9da1-295b3b221969",
   "metadata": {},
   "outputs": [],
   "source": [
    "%%capture\n",
    "!pip install radiant_mlhub"
   ]
  },
  {
   "cell_type": "markdown",
   "id": "b33f250c-ed77-4a40-bb16-7848835073dc",
   "metadata": {},
   "source": [
    "Tan pronto instale esta dependencia, abra una sesión de terminal y configure el API Key con el comando: **mlhub configure**"
   ]
  },
  {
   "cell_type": "markdown",
   "id": "a5a17f70-fbfa-4013-8ca0-74a897892106",
   "metadata": {},
   "source": [
    "## Librerias"
   ]
  },
  {
   "cell_type": "markdown",
   "id": "e9e14d1e-585a-4602-a58a-c8b1f2b8fa12",
   "metadata": {},
   "source": [
    "A continuación vamos a importar la libreria de Radiant MLHub para consultar el contenido del dataset y descargarlo"
   ]
  },
  {
   "cell_type": "code",
   "execution_count": 1,
   "id": "1878ee24-7770-480f-900a-382b2afdff09",
   "metadata": {},
   "outputs": [],
   "source": [
    "from radiant_mlhub import Dataset"
   ]
  },
  {
   "cell_type": "markdown",
   "id": "aa324581-370b-45c7-afd7-78a54d921228",
   "metadata": {},
   "source": [
    "## Descargar datos"
   ]
  },
  {
   "cell_type": "code",
   "execution_count": 2,
   "id": "41b3296f-9af0-4b55-8e2c-9f6d472cbf23",
   "metadata": {},
   "outputs": [],
   "source": [
    "# Nombre de la colección\n",
    "COLLECTION = \"landcovernet_v1\""
   ]
  },
  {
   "cell_type": "code",
   "execution_count": 3,
   "id": "b2e9ef1a-a5a0-495a-8898-81b4f2c43f7f",
   "metadata": {},
   "outputs": [],
   "source": [
    "# Ruta de descarga\n",
    "DOWNLOAD_PATH = \"/home/ggonzr_cloud/deeplearn/data\""
   ]
  },
  {
   "cell_type": "code",
   "execution_count": 4,
   "id": "8fbc29d7-8aac-4c64-9c29-9df768aee7f8",
   "metadata": {},
   "outputs": [
    {
     "name": "stdout",
     "output_type": "stream",
     "text": [
      "Coleccion: ref_landcovernet_v1_source\n",
      "Coleccion: ref_landcovernet_v1_labels\n"
     ]
    }
   ],
   "source": [
    "# Obtener la colección del dataset\n",
    "# Existen diversos tipos y tamaños\n",
    "ds = Dataset.fetch(COLLECTION)\n",
    "for c in ds.collections:\n",
    "    print(f\"Coleccion: {c.id}\")"
   ]
  },
  {
   "cell_type": "markdown",
   "id": "a400e38d-c11a-41b3-b16c-525130753704",
   "metadata": {},
   "source": [
    "Vamos a descargar ambas colecciones del conjunto de datos **LandCoverNet**. La primera colección, **ref_landcovernet_v1_source**, contiene las imágenes de satelite Sentinel-2 y el tamaño del archivo comprimido es de 81.91 GB.\n",
    "\n",
    "La segunda coleccion, **ref_landcovernet_v1_labels**, contiene las máscaras de las regiones de interes detallando a que clase pertenece cada píxel, esta colección pesa 18.32 MB"
   ]
  },
  {
   "cell_type": "code",
   "execution_count": 5,
   "id": "d0e082bf-b486-4673-8ae9-4e7764e828e2",
   "metadata": {},
   "outputs": [],
   "source": [
    "# Obtener una referencia a la colección\n",
    "source_data = ds.collections[0]"
   ]
  },
  {
   "cell_type": "code",
   "execution_count": 6,
   "id": "c83eb40e-f9bb-4ca6-8478-df37f909c2b9",
   "metadata": {},
   "outputs": [
    {
     "data": {
      "application/vnd.jupyter.widget-view+json": {
       "model_id": "25312ae1edb840738b927c1bd53d360a",
       "version_major": 2,
       "version_minor": 0
      },
      "text/plain": [
       "  0%|          | 0/87954.8 [00:00<?, ?M/s]"
      ]
     },
     "metadata": {},
     "output_type": "display_data"
    },
    {
     "data": {
      "text/plain": [
       "PosixPath('/home/ggonzr_cloud/deeplearn/data/ref_landcovernet_v1_source.tar.gz')"
      ]
     },
     "execution_count": 6,
     "metadata": {},
     "output_type": "execute_result"
    }
   ],
   "source": [
    "# Descargarla\n",
    "source_data.download(DOWNLOAD_PATH)"
   ]
  },
  {
   "cell_type": "markdown",
   "id": "3aa3c9c4-135b-4a8e-8a54-232af6c6fc7d",
   "metadata": {},
   "source": [
    "Posteriormente, vamos a descargar también el dataset con las etiquetas "
   ]
  },
  {
   "cell_type": "code",
   "execution_count": 5,
   "id": "24d9d31d-130a-458c-8d12-b7a5dcb9d64b",
   "metadata": {},
   "outputs": [],
   "source": [
    "labels_data = ds.collections[1]"
   ]
  },
  {
   "cell_type": "code",
   "execution_count": 6,
   "id": "590a360b-51f1-49b6-965e-2516dd1a5bfc",
   "metadata": {},
   "outputs": [
    {
     "data": {
      "application/vnd.jupyter.widget-view+json": {
       "model_id": "981942f5ebbe4e83a70c98236b6a7d90",
       "version_major": 2,
       "version_minor": 0
      },
      "text/plain": [
       "  0%|          | 0/19.2 [00:00<?, ?M/s]"
      ]
     },
     "metadata": {},
     "output_type": "display_data"
    },
    {
     "data": {
      "text/plain": [
       "PosixPath('/home/ggonzr_cloud/deeplearn/data/ref_landcovernet_v1_labels.tar.gz')"
      ]
     },
     "execution_count": 6,
     "metadata": {},
     "output_type": "execute_result"
    }
   ],
   "source": [
    "# Descargarla\n",
    "labels_data.download(DOWNLOAD_PATH)"
   ]
  },
  {
   "cell_type": "markdown",
   "id": "5480223f-e234-4d68-979f-0e2f6514f1f8",
   "metadata": {},
   "source": [
    "Tan pronto se descargan las colecciones, se descomprimen los archivos y las dos carpetas resultantes se agrupan bajo una carpeta cuya ruta de acceso se referencia en otros notebooks bajo la variable **DATA_BASE**"
   ]
  }
 ],
 "metadata": {
  "kernelspec": {
   "display_name": "Python 3 (ipykernel)",
   "language": "python",
   "name": "python3"
  },
  "language_info": {
   "codemirror_mode": {
    "name": "ipython",
    "version": 3
   },
   "file_extension": ".py",
   "mimetype": "text/x-python",
   "name": "python",
   "nbconvert_exporter": "python",
   "pygments_lexer": "ipython3",
   "version": "3.9.5"
  }
 },
 "nbformat": 4,
 "nbformat_minor": 5
}
