{
 "cells": [
  {
   "cell_type": "markdown",
   "id": "badc37c2-cd2c-4a9e-b374-44e14eccd435",
   "metadata": {},
   "source": [
    "# Descarga de datos"
   ]
  },
  {
   "cell_type": "markdown",
   "id": "5f23fc25-43c3-4806-bd48-a8510bfb16d8",
   "metadata": {},
   "source": [
    "Para esta prueba, vamos a trabajar con los datos provistos en la plataforma Radiant MLHub. Para esta ocasión, el contexto del trabajo será segmentación de imágenes satelitales para la detección de cultivos en Ghana, África. El dataset que vamos a emplear ha sido preparado por cientificos de datos de la Universidad de Stanford, USA. Si desea mayores detalles puede consultar en [Dataset](https://mlhub.earth/data/su_african_crops_ghana)"
   ]
  },
  {
   "cell_type": "markdown",
   "id": "a41153a7-0fac-4289-9dcf-45ba5ffe386e",
   "metadata": {},
   "source": [
    "## Configuración del cliente de descarga"
   ]
  },
  {
   "cell_type": "markdown",
   "id": "619b6bc0-0c86-41a7-8691-14cdc8687dc9",
   "metadata": {},
   "source": [
    "A continuación vamos a descargar y configurar el cliente de descarga y su API Key"
   ]
  },
  {
   "cell_type": "code",
   "execution_count": 2,
   "id": "91696ee8-ddf8-4d9b-9da1-295b3b221969",
   "metadata": {},
   "outputs": [],
   "source": [
    "%%capture\n",
    "!pip install radiant_mlhub"
   ]
  },
  {
   "cell_type": "markdown",
   "id": "a5a17f70-fbfa-4013-8ca0-74a897892106",
   "metadata": {},
   "source": [
    "## Librerias"
   ]
  },
  {
   "cell_type": "code",
   "execution_count": 1,
   "id": "1878ee24-7770-480f-900a-382b2afdff09",
   "metadata": {},
   "outputs": [],
   "source": [
    "from radiant_mlhub import Dataset"
   ]
  },
  {
   "cell_type": "markdown",
   "id": "aa324581-370b-45c7-afd7-78a54d921228",
   "metadata": {},
   "source": [
    "## Descargar datos"
   ]
  },
  {
   "cell_type": "code",
   "execution_count": 2,
   "id": "8fbc29d7-8aac-4c64-9c29-9df768aee7f8",
   "metadata": {},
   "outputs": [
    {
     "name": "stdout",
     "output_type": "stream",
     "text": [
      "Coleccion: su_african_crops_ghana_labels\n",
      "Coleccion: su_african_crops_ghana_source_planet\n",
      "Coleccion: su_african_crops_ghana_source_s1\n",
      "Coleccion: su_african_crops_ghana_source_s2\n"
     ]
    }
   ],
   "source": [
    "# Obtener la colección del dataset\n",
    "# Existen diversos tipos y tamaños\n",
    "ds = Dataset.fetch('su_african_crops_ghana')\n",
    "for c in ds.collections:\n",
    "    print(f\"Coleccion: {c.id}\")"
   ]
  },
  {
   "cell_type": "markdown",
   "id": "a400e38d-c11a-41b3-b16c-525130753704",
   "metadata": {},
   "source": [
    "Vamos a descargar el dataset **su_african_crops_ghana_source_s2** que pesa 7.62 GB"
   ]
  },
  {
   "cell_type": "code",
   "execution_count": 3,
   "id": "d0e082bf-b486-4673-8ae9-4e7764e828e2",
   "metadata": {},
   "outputs": [],
   "source": [
    "# Obtener una referencia a la colección\n",
    "ghana_col_s2 = ds.collections[3]"
   ]
  },
  {
   "cell_type": "code",
   "execution_count": 4,
   "id": "c83eb40e-f9bb-4ca6-8478-df37f909c2b9",
   "metadata": {},
   "outputs": [
    {
     "data": {
      "application/vnd.jupyter.widget-view+json": {
       "model_id": "da954af21bc449188b53ef2942117ee0",
       "version_major": 2,
       "version_minor": 0
      },
      "text/plain": [
       "  0%|          | 0/8180.0 [00:00<?, ?M/s]"
      ]
     },
     "metadata": {},
     "output_type": "display_data"
    },
    {
     "data": {
      "text/plain": [
       "PosixPath('/deeplearn/entrega2/datos/su_african_crops_ghana_source_s2.tar.gz')"
      ]
     },
     "execution_count": 4,
     "metadata": {},
     "output_type": "execute_result"
    }
   ],
   "source": [
    "# Descargarla\n",
    "ghana_col_s2.download(\"./datos\")"
   ]
  },
  {
   "cell_type": "markdown",
   "id": "d074b9cd-1add-40f8-89bc-740556b8ba41",
   "metadata": {},
   "source": [
    "Para concluir, vamos a listar los archivos y a desempaquetar el tarball con los datos"
   ]
  },
  {
   "cell_type": "code",
   "execution_count": 15,
   "id": "2a8d402d-384d-45fe-b514-b6ad5d63ae79",
   "metadata": {},
   "outputs": [],
   "source": [
    "# Ubicación del tarball\n",
    "COLLECTION_TAR = \"./datos/su_african_crops_ghana_source_s2.tar.gz\""
   ]
  },
  {
   "cell_type": "markdown",
   "id": "fc7929d7-9a45-48a7-94f5-eb207f85597b",
   "metadata": {},
   "source": [
    "Desempaquetar: Para aprovechar mejor los recursos, vamos a emplear **pigz** para paralelizar el proceso empleando todos los cores. Por lo anterior, vamos a ejecutar este proceso directamente desde la Shell de la máquina"
   ]
  }
 ],
 "metadata": {
  "kernelspec": {
   "display_name": "Environment (conda_tensorflow2_latest_p37)",
   "language": "python",
   "name": "conda_tensorflow2_latest_p37"
  },
  "language_info": {
   "codemirror_mode": {
    "name": "ipython",
    "version": 3
   },
   "file_extension": ".py",
   "mimetype": "text/x-python",
   "name": "python",
   "nbconvert_exporter": "python",
   "pygments_lexer": "ipython3",
   "version": "3.7.10"
  }
 },
 "nbformat": 4,
 "nbformat_minor": 5
}
