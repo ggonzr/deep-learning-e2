{
 "cells": [
  {
   "cell_type": "markdown",
   "id": "181d0004-5748-4842-bf8b-0b26de5a9439",
   "metadata": {},
   "source": [
    "# Filtro de las imagenes"
   ]
  },
  {
   "cell_type": "markdown",
   "id": "0006a0f4-b56c-4acf-83c7-f1e3811d43a7",
   "metadata": {},
   "source": [
    "El objetivo de este notebook es mostrar el proceso sobre cómo se filtraron las imagenes disponibles en el dataset según el porcentaje de cobertura de nubes. Para ello se listaron todas las imagenes descargadas, cada imagen se representa como una carpeta. Posteriormente, se cargó el raster con la máscara de nubes se calculó la media de toda la máscara para cada imagen. El resultado se almacenó en un archivo **JSON** con el nombre de *cloud_mask_report.json*, este archivo se emplea en otros notebook para seleccionar las imagenes multiespectrales que cuenten con un porcentaje de nubes inferior a un valor dado"
   ]
  },
  {
   "cell_type": "markdown",
   "id": "b4b98d1e-16bf-46c2-9b18-fd9c9a3575b2",
   "metadata": {},
   "source": [
    "## Librerias"
   ]
  },
  {
   "cell_type": "markdown",
   "id": "4d8f2d1f-36d0-4b2d-9008-54daba5e0695",
   "metadata": {},
   "source": [
    "A continuación vamos a cargar algunas librerias para realizar este proceso"
   ]
  },
  {
   "cell_type": "code",
   "execution_count": 1,
   "id": "c0e584eb-0ac9-40d9-89f0-6ccfa245f549",
   "metadata": {},
   "outputs": [],
   "source": [
    "from sklearn.preprocessing import MinMaxScaler\n",
    "from typing import List\n",
    "from matplotlib import colors\n",
    "from skimage import exposure\n",
    "from tqdm import tqdm\n",
    "\n",
    "import rasterio as rio\n",
    "import rasterio.plot as rio_plot\n",
    "import seaborn as sns\n",
    "import matplotlib.pyplot as plt\n",
    "import pandas as pd\n",
    "import numpy as np\n",
    "import glob\n",
    "import json\n",
    "\n",
    "# Semilla pseudoaleatoria\n",
    "np.random.seed(24)\n",
    "\n",
    "# Tamaño de las figuras\n",
    "plt.rcParams[\"figure.figsize\"] = (20,10)\n",
    "\n",
    "# Ruta base de la carpeta de datos\n",
    "DATA_BASE = \"/home/ggonzr_cloud/deeplearn/data\""
   ]
  },
  {
   "cell_type": "markdown",
   "id": "4d61c6a8-4fd1-408f-ba6c-73cd06c62fc0",
   "metadata": {},
   "source": [
    "### Carga de imágenes"
   ]
  },
  {
   "cell_type": "markdown",
   "id": "2e9f1e28-b4c7-4310-930f-7333ee97c75f",
   "metadata": {},
   "source": [
    "A continuación vamos a buscar las rutas de acceso a las imagenes."
   ]
  },
  {
   "cell_type": "code",
   "execution_count": 2,
   "id": "f83466ea-ec7e-4af0-a650-a7a9e8dd1cc7",
   "metadata": {},
   "outputs": [],
   "source": [
    "# Directorios de las etiquetas y la imagenes\n",
    "LABEL_DIR = f\"{DATA_BASE}/ref_landcovernet_v1_labels\"\n",
    "IMAGE_DIR = f\"{DATA_BASE}/ref_landcovernet_v1_source\""
   ]
  },
  {
   "cell_type": "code",
   "execution_count": 3,
   "id": "9d5da36d-e85e-4014-ad12-24c5c520fd5f",
   "metadata": {},
   "outputs": [
    {
     "name": "stdout",
     "output_type": "stream",
     "text": [
      "Número de etiquetas disponibles: 1982\n"
     ]
    }
   ],
   "source": [
    "# Listar los subdirectorios de cada carpeta: Etiquetas\n",
    "label_dirs = glob.glob(f\"{LABEL_DIR}/*\")\n",
    "print(f\"Número de etiquetas disponibles: {len(label_dirs)}\")"
   ]
  },
  {
   "cell_type": "code",
   "execution_count": 4,
   "id": "9d4c3733-e58c-45a3-b0a7-dab5981dfb93",
   "metadata": {},
   "outputs": [
    {
     "name": "stdout",
     "output_type": "stream",
     "text": [
      "Número de etiquetas disponibles: 82430\n"
     ]
    }
   ],
   "source": [
    "# Listar los subdirectorios de cada carpeta: Etiquetas\n",
    "image_dirs = glob.glob(f\"{IMAGE_DIR}/*\")\n",
    "print(f\"Número de etiquetas disponibles: {len(image_dirs)}\")"
   ]
  },
  {
   "cell_type": "markdown",
   "id": "9c49a313-f6f8-4649-8c2e-e89ae4496255",
   "metadata": {},
   "source": [
    "En las siguientes dos celdas podrá observar un ejemplo de la ruta de acceso tanto de las imagenes satelitales como de sus etiquetas. Cada una de ellas se representa en una carpeta"
   ]
  },
  {
   "cell_type": "code",
   "execution_count": 5,
   "id": "7095cf73-87d9-4971-a93d-8c92fe7bf9ff",
   "metadata": {},
   "outputs": [
    {
     "data": {
      "text/plain": [
       "'/home/ggonzr_cloud/deeplearn/data/ref_landcovernet_v1_labels/ref_landcovernet_v1_labels_36PZC_07'"
      ]
     },
     "execution_count": 5,
     "metadata": {},
     "output_type": "execute_result"
    }
   ],
   "source": [
    "label_dirs[0]"
   ]
  },
  {
   "cell_type": "code",
   "execution_count": 6,
   "id": "56026921-8af7-4b89-9ff1-73d8bb7b9e15",
   "metadata": {},
   "outputs": [
    {
     "data": {
      "text/plain": [
       "'/home/ggonzr_cloud/deeplearn/data/ref_landcovernet_v1_source/ref_landcovernet_v1_source_33LYE_11_20180818'"
      ]
     },
     "execution_count": 6,
     "metadata": {},
     "output_type": "execute_result"
    }
   ],
   "source": [
    "image_dirs[0]"
   ]
  },
  {
   "cell_type": "markdown",
   "id": "aab1d954-bb3d-412d-bd21-8a5c0f5ae631",
   "metadata": {},
   "source": [
    "A continuación vamos a calcular la media de la máscara de nubes de cada imagen"
   ]
  },
  {
   "cell_type": "markdown",
   "id": "08d927fa-14b0-49bb-ad31-323b9c45c9d7",
   "metadata": {},
   "source": [
    "## Conteo de máscaras"
   ]
  },
  {
   "cell_type": "markdown",
   "id": "c17490bb-3d65-43ba-8404-8f8591a5b8be",
   "metadata": {},
   "source": [
    "Para el cálculo de la media de la máscara de nubes recibimos como entrada la ruta de la carpeta de la imagen.\n",
    "Posteriormente, obtenemos la ruta del archivo de la máscara de nubes (CLD.tif) y con ello realizamos la carga del raster empleando la libreria **rasterio**. Para culminar calculamos la media con la funcion **np.mean** y retornamos un diccionario con el ID de la imagen, el ID de la toma de la imagen (chip_id), la ruta de esta imagen en el sistema de archivos de la máquina de trabajo y la media de la máscara de nubes"
   ]
  },
  {
   "cell_type": "code",
   "execution_count": 12,
   "id": "d1b717c2-72cb-4214-b3a2-c1959a0fc181",
   "metadata": {},
   "outputs": [],
   "source": [
    "# El siguiente diccionario va a almacenar la media de la máscara de nubes\n",
    "def check_mask(path_img: str) -> dict:\n",
    "    # ID de la imagen\n",
    "    image_name = path_img.split(\"/\")[-1]\n",
    "    mask_split = image_name.split(\"_\")\n",
    "    image_id = f\"{mask_split[-3]}_{mask_split[-2]}_{mask_split[-1]}\"\n",
    "    chip_id = f\"{mask_split[-3]}_{mask_split[-2]}\"\n",
    "    \n",
    "    # Media de conteo\n",
    "    cloud_mask = None\n",
    "    raster_path = glob.glob(f\"{path_img}/CLD.*\")[0]\n",
    "    with rio.open(raster_path) as rf:\n",
    "        cloud_mask = rf.read(1)\n",
    "        \n",
    "    cloud_mask_mean = np.mean(cloud_mask)\n",
    "    \n",
    "    # Dar retorno\n",
    "    return {\n",
    "        \"image_id\": image_id,\n",
    "        \"chip_id\": chip_id,\n",
    "        \"image_folder_path\": path_img,\n",
    "        \"cloud_mask_mean\": cloud_mask_mean\n",
    "    }"
   ]
  },
  {
   "cell_type": "code",
   "execution_count": 13,
   "id": "6a5305f0-a3af-45f2-b03d-4ffff5640db0",
   "metadata": {},
   "outputs": [],
   "source": [
    "# Lista con los datos\n",
    "images_cloud_mask = []"
   ]
  },
  {
   "cell_type": "markdown",
   "id": "4f760a11-1771-4ee3-bb04-2c4aaf32fe89",
   "metadata": {},
   "source": [
    "Con la definición de la función, ejecutamos el proceso. Al final ocurre un error con el procesamiento debido a que la carpeta contenia otros archivos relacionados con metadatos que no seguian el patrón de nombramiento."
   ]
  },
  {
   "cell_type": "code",
   "execution_count": 14,
   "id": "475e3df9-1b5a-4e58-baef-e6abe396ca4a",
   "metadata": {},
   "outputs": [
    {
     "name": "stderr",
     "output_type": "stream",
     "text": [
      "100%|███████████████████████████████████████████████████████████████████████████████████████████████████████████████████████████████████▉| 82398/82430 [30:46<00:00, 44.62it/s]\n"
     ]
    },
    {
     "ename": "IndexError",
     "evalue": "list index out of range",
     "output_type": "error",
     "traceback": [
      "\u001b[0;31m---------------------------------------------------------------------------\u001b[0m",
      "\u001b[0;31mIndexError\u001b[0m                                Traceback (most recent call last)",
      "\u001b[0;32m/tmp/ipykernel_4516/3681735868.py\u001b[0m in \u001b[0;36m<module>\u001b[0;34m\u001b[0m\n\u001b[1;32m      1\u001b[0m \u001b[0;32mfor\u001b[0m \u001b[0mimage_path\u001b[0m \u001b[0;32min\u001b[0m \u001b[0mtqdm\u001b[0m\u001b[0;34m(\u001b[0m\u001b[0mimage_dirs\u001b[0m\u001b[0;34m)\u001b[0m\u001b[0;34m:\u001b[0m\u001b[0;34m\u001b[0m\u001b[0;34m\u001b[0m\u001b[0m\n\u001b[0;32m----> 2\u001b[0;31m     \u001b[0mmask_data\u001b[0m \u001b[0;34m=\u001b[0m \u001b[0mcheck_mask\u001b[0m\u001b[0;34m(\u001b[0m\u001b[0mpath_img\u001b[0m\u001b[0;34m=\u001b[0m\u001b[0mimage_path\u001b[0m\u001b[0;34m)\u001b[0m\u001b[0;34m\u001b[0m\u001b[0;34m\u001b[0m\u001b[0m\n\u001b[0m\u001b[1;32m      3\u001b[0m     \u001b[0mimages_cloud_mask\u001b[0m\u001b[0;34m.\u001b[0m\u001b[0mappend\u001b[0m\u001b[0;34m(\u001b[0m\u001b[0mmask_data\u001b[0m\u001b[0;34m)\u001b[0m\u001b[0;34m\u001b[0m\u001b[0;34m\u001b[0m\u001b[0m\n",
      "\u001b[0;32m/tmp/ipykernel_4516/3557936194.py\u001b[0m in \u001b[0;36mcheck_mask\u001b[0;34m(path_img)\u001b[0m\n\u001b[1;32m      4\u001b[0m     \u001b[0mimage_name\u001b[0m \u001b[0;34m=\u001b[0m \u001b[0mpath_img\u001b[0m\u001b[0;34m.\u001b[0m\u001b[0msplit\u001b[0m\u001b[0;34m(\u001b[0m\u001b[0;34m\"/\"\u001b[0m\u001b[0;34m)\u001b[0m\u001b[0;34m[\u001b[0m\u001b[0;34m-\u001b[0m\u001b[0;36m1\u001b[0m\u001b[0;34m]\u001b[0m\u001b[0;34m\u001b[0m\u001b[0;34m\u001b[0m\u001b[0m\n\u001b[1;32m      5\u001b[0m     \u001b[0mmask_split\u001b[0m \u001b[0;34m=\u001b[0m \u001b[0mimage_name\u001b[0m\u001b[0;34m.\u001b[0m\u001b[0msplit\u001b[0m\u001b[0;34m(\u001b[0m\u001b[0;34m\"_\"\u001b[0m\u001b[0;34m)\u001b[0m\u001b[0;34m\u001b[0m\u001b[0;34m\u001b[0m\u001b[0m\n\u001b[0;32m----> 6\u001b[0;31m     \u001b[0mimage_id\u001b[0m \u001b[0;34m=\u001b[0m \u001b[0;34mf\"{mask_split[-3]}_{mask_split[-2]}_{mask_split[-1]}\"\u001b[0m\u001b[0;34m\u001b[0m\u001b[0;34m\u001b[0m\u001b[0m\n\u001b[0m\u001b[1;32m      7\u001b[0m     \u001b[0mchip_id\u001b[0m \u001b[0;34m=\u001b[0m \u001b[0;34mf\"{mask_split[-3]}_{mask_split[-2]}\"\u001b[0m\u001b[0;34m\u001b[0m\u001b[0;34m\u001b[0m\u001b[0m\n\u001b[1;32m      8\u001b[0m \u001b[0;34m\u001b[0m\u001b[0m\n",
      "\u001b[0;31mIndexError\u001b[0m: list index out of range"
     ]
    }
   ],
   "source": [
    "for image_path in tqdm(image_dirs):\n",
    "    mask_data = check_mask(path_img=image_path)\n",
    "    images_cloud_mask.append(mask_data)"
   ]
  },
  {
   "cell_type": "markdown",
   "id": "848c8a93-2f01-45e5-a370-48af91f69421",
   "metadata": {},
   "source": [
    "Para culminar, calculamos el tamaño del arreglo con las imágenes procesadas"
   ]
  },
  {
   "cell_type": "code",
   "execution_count": 15,
   "id": "572d289a-e627-405f-928b-cb75a15571e7",
   "metadata": {},
   "outputs": [
    {
     "data": {
      "text/plain": [
       "82398"
      ]
     },
     "execution_count": 15,
     "metadata": {},
     "output_type": "execute_result"
    }
   ],
   "source": [
    "len(images_cloud_mask)"
   ]
  },
  {
   "cell_type": "markdown",
   "id": "d089552f-b6fd-4e13-afd0-3d5daf2bbd6b",
   "metadata": {},
   "source": [
    "Finalmente, guardamos el archivo **JSON** para emplear estos datos en otros notebooks"
   ]
  },
  {
   "cell_type": "code",
   "execution_count": 16,
   "id": "0e20c1c1-e3e4-4d92-8da6-d4bb37076414",
   "metadata": {},
   "outputs": [],
   "source": [
    "# Guardar datos\n",
    "with open(f\"{DATA_BASE}/cloud_mask_report.json\", \"w\", encoding=\"utf-8\") as v_f:\n",
    "    json.dump(images_cloud_mask, v_f, ensure_ascii=False, indent=4)"
   ]
  }
 ],
 "metadata": {
  "kernelspec": {
   "display_name": "Python 3 (ipykernel)",
   "language": "python",
   "name": "python3"
  },
  "language_info": {
   "codemirror_mode": {
    "name": "ipython",
    "version": 3
   },
   "file_extension": ".py",
   "mimetype": "text/x-python",
   "name": "python",
   "nbconvert_exporter": "python",
   "pygments_lexer": "ipython3",
   "version": "3.9.5"
  }
 },
 "nbformat": 4,
 "nbformat_minor": 5
}
