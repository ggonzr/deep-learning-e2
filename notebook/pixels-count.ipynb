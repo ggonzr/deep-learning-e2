{
 "cells": [
  {
   "cell_type": "markdown",
   "id": "181d0004-5748-4842-bf8b-0b26de5a9439",
   "metadata": {},
   "source": [
    "# Pixeles"
   ]
  },
  {
   "cell_type": "markdown",
   "id": "b4b98d1e-16bf-46c2-9b18-fd9c9a3575b2",
   "metadata": {},
   "source": [
    "## Librerias"
   ]
  },
  {
   "cell_type": "code",
   "execution_count": 1,
   "id": "c0e584eb-0ac9-40d9-89f0-6ccfa245f549",
   "metadata": {},
   "outputs": [],
   "source": [
    "from sklearn.preprocessing import MinMaxScaler\n",
    "from typing import List\n",
    "from matplotlib import colors\n",
    "from skimage import exposure\n",
    "from tqdm.notebook import tqdm\n",
    "\n",
    "import rasterio as rio\n",
    "import rasterio.plot as rio_plot\n",
    "import seaborn as sns\n",
    "import matplotlib.pyplot as plt\n",
    "import pandas as pd\n",
    "import numpy as np\n",
    "import glob\n",
    "import json\n",
    "\n",
    "# Semilla pseudoaleatoria\n",
    "np.random.seed(24)\n",
    "\n",
    "# Tamaño de las figuras\n",
    "plt.rcParams[\"figure.figsize\"] = (20,10)\n",
    "\n",
    "# Ruta base de la carpeta de datos\n",
    "DATA_BASE = \"/home/ggonzr_cloud/deeplearn/data\""
   ]
  },
  {
   "cell_type": "markdown",
   "id": "4512c542-5b0a-474a-9e84-682258e31976",
   "metadata": {},
   "source": [
    "## Exploración"
   ]
  },
  {
   "cell_type": "markdown",
   "id": "cf494303-8394-4ddd-aebb-c7c3840807e4",
   "metadata": {},
   "source": [
    "En este apartado vamos a explorar algunas imagenes del conjunto de datos, los archivos que contiene la etiqueta de la imagen y la máscara."
   ]
  },
  {
   "cell_type": "markdown",
   "id": "4d61c6a8-4fd1-408f-ba6c-73cd06c62fc0",
   "metadata": {},
   "source": [
    "### Carga de imágenes"
   ]
  },
  {
   "cell_type": "markdown",
   "id": "2e9f1e28-b4c7-4310-930f-7333ee97c75f",
   "metadata": {},
   "source": [
    "A continuación vamos a buscar las rutas de acceso a las imagenes. Dado a que el conjunto de etiquetas es más pequeño que las imagenes, vamos a emplear un conjunto reducido tal que tengamos etiquetas para todas la imagenes a emplear"
   ]
  },
  {
   "cell_type": "code",
   "execution_count": 2,
   "id": "f83466ea-ec7e-4af0-a650-a7a9e8dd1cc7",
   "metadata": {},
   "outputs": [],
   "source": [
    "# Directorios de las etiquetas y la imagenes\n",
    "LABEL_DIR = f\"{DATA_BASE}/ref_landcovernet_v1_labels\"\n",
    "IMAGE_DIR = f\"{DATA_BASE}/ref_landcovernet_v1_source\""
   ]
  },
  {
   "cell_type": "code",
   "execution_count": 3,
   "id": "9d5da36d-e85e-4014-ad12-24c5c520fd5f",
   "metadata": {},
   "outputs": [
    {
     "name": "stdout",
     "output_type": "stream",
     "text": [
      "Número de etiquetas disponibles: 1982\n"
     ]
    }
   ],
   "source": [
    "# Listar los subdirectorios de cada carpeta: Etiquetas\n",
    "label_dirs = glob.glob(f\"{LABEL_DIR}/*\")\n",
    "print(f\"Número de etiquetas disponibles: {len(label_dirs)}\")"
   ]
  },
  {
   "cell_type": "code",
   "execution_count": 4,
   "id": "9d4c3733-e58c-45a3-b0a7-dab5981dfb93",
   "metadata": {},
   "outputs": [
    {
     "name": "stdout",
     "output_type": "stream",
     "text": [
      "Número de etiquetas disponibles: 82430\n"
     ]
    }
   ],
   "source": [
    "# Listar los subdirectorios de cada carpeta: Etiquetas\n",
    "image_dirs = glob.glob(f\"{IMAGE_DIR}/*\")\n",
    "print(f\"Número de etiquetas disponibles: {len(image_dirs)}\")"
   ]
  },
  {
   "cell_type": "code",
   "execution_count": 5,
   "id": "7095cf73-87d9-4971-a93d-8c92fe7bf9ff",
   "metadata": {},
   "outputs": [
    {
     "data": {
      "text/plain": [
       "'/home/ggonzr_cloud/deeplearn/data/ref_landcovernet_v1_labels/ref_landcovernet_v1_labels_36PZC_07'"
      ]
     },
     "execution_count": 5,
     "metadata": {},
     "output_type": "execute_result"
    }
   ],
   "source": [
    "label_dirs[0]"
   ]
  },
  {
   "cell_type": "code",
   "execution_count": 6,
   "id": "56026921-8af7-4b89-9ff1-73d8bb7b9e15",
   "metadata": {},
   "outputs": [
    {
     "data": {
      "text/plain": [
       "'/home/ggonzr_cloud/deeplearn/data/ref_landcovernet_v1_source/ref_landcovernet_v1_source_33LYE_11_20180818'"
      ]
     },
     "execution_count": 6,
     "metadata": {},
     "output_type": "execute_result"
    }
   ],
   "source": [
    "image_dirs[0]"
   ]
  },
  {
   "cell_type": "markdown",
   "id": "11ba9e04-d65d-4cc5-9db8-d8c5c30bb70c",
   "metadata": {},
   "source": [
    "# Conteo de pixeles por las etiquetas"
   ]
  },
  {
   "cell_type": "code",
   "execution_count": 7,
   "id": "a11799fb-a278-4682-82d5-aa550992ae1e",
   "metadata": {},
   "outputs": [],
   "source": [
    "def create_response() -> dict:\n",
    "    labels_tag = list(range(1,8))\n",
    "    zeros_list = np.zeros(len(labels_tag))\n",
    "    zeros_list = zeros_list.tolist()\n",
    "    cont_dict = dict(zip(labels_tag, zeros_list))\n",
    "    cont_dict[\"chip_id\"] = \"\"\n",
    "    cont_dict[\"label_folder\"] = \"\"\n",
    "    return cont_dict"
   ]
  },
  {
   "cell_type": "code",
   "execution_count": 8,
   "id": "daba47ba-0f37-4043-b5fc-a11cd49dfba5",
   "metadata": {},
   "outputs": [],
   "source": [
    "def pixel_count(path_label: str) -> dict:\n",
    "    folder_name = path_label.split(\"/\")[-1]\n",
    "    name_split = folder_name.split(\"_\")\n",
    "    chip_name = f\"{name_split[-2]}_{name_split[-1]}\"\n",
    "    \n",
    "    label_shape = glob.glob(f\"{path_label}/label*\")[0]    \n",
    "    \n",
    "    # Cargar la mascara\n",
    "    label_mask = None\n",
    "    with rio.open(label_shape, 'r') as rf:\n",
    "        label_mask = rf.read(1)\n",
    "    \n",
    "    # Realizar el conteo\n",
    "    class_tag, pix_count = np.unique(label_mask, return_counts=True)\n",
    "    class_tag = class_tag.tolist()\n",
    "    pix_count = pix_count.tolist()\n",
    "    \n",
    "    # Instanciar diccionario de retorno\n",
    "    rsp = create_response()\n",
    "    \n",
    "    # Retorno\n",
    "    pix_dict = dict(zip(class_tag, pix_count))\n",
    "    pix_dict[\"chip_id\"] = chip_name\n",
    "    pix_dict[\"label_folder\"] = path_label\n",
    "    \n",
    "    return {**rsp, **pix_dict}"
   ]
  },
  {
   "cell_type": "code",
   "execution_count": 9,
   "id": "666fe212-31e1-460a-ad27-f1db89e49e12",
   "metadata": {},
   "outputs": [],
   "source": [
    "# Procesamiento\n",
    "process_result = []"
   ]
  },
  {
   "cell_type": "code",
   "execution_count": 10,
   "id": "88e85c17-63af-485e-890d-b7df32fe46ec",
   "metadata": {},
   "outputs": [
    {
     "data": {
      "application/vnd.jupyter.widget-view+json": {
       "model_id": "1f304f69a98d4f44a02b2948d25be518",
       "version_major": 2,
       "version_minor": 0
      },
      "text/plain": [
       "  0%|          | 0/1982 [00:00<?, ?it/s]"
      ]
     },
     "metadata": {},
     "output_type": "display_data"
    }
   ],
   "source": [
    "for lf in tqdm(label_dirs):\n",
    "    try:\n",
    "        pxd = pixel_count(lf)\n",
    "        process_result.append(pxd)    \n",
    "    except:\n",
    "        continue"
   ]
  },
  {
   "cell_type": "code",
   "execution_count": 11,
   "id": "d2d0a121-e925-415d-86b9-ea25bdc2696e",
   "metadata": {},
   "outputs": [],
   "source": [
    "# Guardar datos\n",
    "with open(f\"{DATA_BASE}/pixel_report.json\", \"w\", encoding=\"utf-8\") as v_f:\n",
    "    json.dump(process_result, v_f, ensure_ascii=False, indent=4)"
   ]
  },
  {
   "cell_type": "code",
   "execution_count": 12,
   "id": "b4b2ec8c-03f9-405a-a06a-908ef59af726",
   "metadata": {},
   "outputs": [
    {
     "ename": "NameError",
     "evalue": "name 'ex_mask_rio' is not defined",
     "output_type": "error",
     "traceback": [
      "\u001b[0;31m---------------------------------------------------------------------------\u001b[0m",
      "\u001b[0;31mNameError\u001b[0m                                 Traceback (most recent call last)",
      "\u001b[0;32m/tmp/ipykernel_3903/1461925986.py\u001b[0m in \u001b[0;36m<module>\u001b[0;34m\u001b[0m\n\u001b[1;32m      1\u001b[0m \u001b[0mfig\u001b[0m\u001b[0;34m,\u001b[0m \u001b[0max\u001b[0m \u001b[0;34m=\u001b[0m \u001b[0mplt\u001b[0m\u001b[0;34m.\u001b[0m\u001b[0msubplots\u001b[0m\u001b[0;34m(\u001b[0m\u001b[0;34m)\u001b[0m\u001b[0;34m\u001b[0m\u001b[0;34m\u001b[0m\u001b[0m\n\u001b[0;32m----> 2\u001b[0;31m \u001b[0mimg\u001b[0m \u001b[0;34m=\u001b[0m \u001b[0max\u001b[0m\u001b[0;34m.\u001b[0m\u001b[0mimshow\u001b[0m\u001b[0;34m(\u001b[0m\u001b[0mex_mask_rio\u001b[0m\u001b[0;34m.\u001b[0m\u001b[0mread\u001b[0m\u001b[0;34m(\u001b[0m\u001b[0;36m1\u001b[0m\u001b[0;34m)\u001b[0m\u001b[0;34m,\u001b[0m \u001b[0mcmap\u001b[0m\u001b[0;34m=\u001b[0m\u001b[0mcmap\u001b[0m\u001b[0;34m,\u001b[0m \u001b[0mnorm\u001b[0m\u001b[0;34m=\u001b[0m\u001b[0mnorm\u001b[0m\u001b[0;34m)\u001b[0m\u001b[0;34m\u001b[0m\u001b[0;34m\u001b[0m\u001b[0m\n\u001b[0m\u001b[1;32m      3\u001b[0m \u001b[0mcbar\u001b[0m \u001b[0;34m=\u001b[0m \u001b[0mplt\u001b[0m\u001b[0;34m.\u001b[0m\u001b[0mcolorbar\u001b[0m\u001b[0;34m(\u001b[0m\u001b[0mimg\u001b[0m\u001b[0;34m,\u001b[0m \u001b[0max\u001b[0m\u001b[0;34m=\u001b[0m\u001b[0max\u001b[0m\u001b[0;34m)\u001b[0m\u001b[0;34m\u001b[0m\u001b[0;34m\u001b[0m\u001b[0m\n\u001b[1;32m      4\u001b[0m \u001b[0mcbar\u001b[0m\u001b[0;34m.\u001b[0m\u001b[0mset_ticks\u001b[0m\u001b[0;34m(\u001b[0m\u001b[0mboundaries\u001b[0m\u001b[0;34m)\u001b[0m\u001b[0;34m\u001b[0m\u001b[0;34m\u001b[0m\u001b[0m\n\u001b[1;32m      5\u001b[0m \u001b[0mcbar\u001b[0m\u001b[0;34m.\u001b[0m\u001b[0mset_ticklabels\u001b[0m\u001b[0;34m(\u001b[0m\u001b[0mmeaning\u001b[0m\u001b[0;34m)\u001b[0m\u001b[0;34m\u001b[0m\u001b[0;34m\u001b[0m\u001b[0m\n",
      "\u001b[0;31mNameError\u001b[0m: name 'ex_mask_rio' is not defined"
     ]
    },
    {
     "data": {
      "image/png": "[encoded data removed]",
      "text/plain": [
       "<Figure size 1440x720 with 1 Axes>"
      ]
     },
     "metadata": {
      "needs_background": "light"
     },
     "output_type": "display_data"
    }
   ],
   "source": [
    "fig, ax = plt.subplots()\n",
    "img = ax.imshow(ex_mask_rio.read(1), cmap=cmap, norm=norm)\n",
    "cbar = plt.colorbar(img, ax=ax)\n",
    "cbar.set_ticks(boundaries)\n",
    "cbar.set_ticklabels(meaning)\n",
    "cbar.config_axis\n",
    "plt.show()"
   ]
  },
  {
   "cell_type": "code",
   "execution_count": null,
   "id": "baaf4ba4-f237-40cb-9abf-fcb2bb2e9a88",
   "metadata": {},
   "outputs": [],
   "source": [
    "ex_image_red_rio = rio.open(ex_img_red)\n",
    "ex_image_green_rio = rio.open(ex_img_green)\n",
    "ex_image_blue_rio = rio.open(ex_img_blue)"
   ]
  },
  {
   "cell_type": "code",
   "execution_count": null,
   "id": "13a56968-b188-42a9-bca0-7584884a3a18",
   "metadata": {},
   "outputs": [],
   "source": [
    "print(f\"Metadatos{ex_image_red_rio.meta}\")"
   ]
  },
  {
   "cell_type": "markdown",
   "id": "01fef709-e30e-4b36-afe1-40e12b4b0f41",
   "metadata": {},
   "source": [
    "Como podemos observar, la imagen posee 10 bandas. A continuación, vamos a visualizar la imagen en combinación de color verdadero"
   ]
  },
  {
   "cell_type": "code",
   "execution_count": null,
   "id": "15da2270-9416-49e8-ac6a-41e9e0258234",
   "metadata": {},
   "outputs": [],
   "source": [
    "ex_image_red_rio_data = ex_image_red_rio.read(1)\n",
    "ex_image_green_rio_data = ex_image_green_rio.read(1)\n",
    "ex_image_green_rio_data = ex_image_blue_rio.read(1)"
   ]
  },
  {
   "cell_type": "markdown",
   "id": "2f31946d-772d-4c61-a139-3d2aad5f2a41",
   "metadata": {},
   "source": [
    "Escalar la imagen"
   ]
  },
  {
   "cell_type": "code",
   "execution_count": null,
   "id": "4145d88b-ca85-475d-ba02-d7014701ab67",
   "metadata": {},
   "outputs": [],
   "source": [
    "# Combinación RGB\n",
    "ex_image_rgb = np.array([\n",
    "    ex_image_red_rio_data,\n",
    "    ex_image_green_rio_data,\n",
    "    ex_image_green_rio_data\n",
    "])\n",
    "\n",
    "# Reescalar los datos de las bandas\n",
    "mms = MinMaxScaler(feature_range=(0, 255))\n",
    "ex_c = ex_image_rgb.copy()\n",
    "p2, p98 = np.percentile(ex_c, (2,98))\n",
    "\n",
    "image = exposure.rescale_intensity(ex_c, in_range=(p2, p98)) / 100000\n",
    "\n",
    "#for band in range(ex_c.shape[0]):\n",
    "#    ex_c[band] = mms.fit_transform(ex_c[band])\n",
    "\n",
    "# Mostrar\n",
    "rio_plot.show(image, transform=ex_image_red_rio.transform)"
   ]
  },
  {
   "cell_type": "code",
   "execution_count": null,
   "id": "f0796f5b-710c-42bc-b0db-ae7effb8380a",
   "metadata": {},
   "outputs": [],
   "source": [
    "ex_mask = glob.glob(f\"{ex_img_folder}/SCL.*\")[0]\n",
    "ex_mask_rio = rio.open(ex_mask)"
   ]
  },
  {
   "cell_type": "code",
   "execution_count": null,
   "id": "064b1efc-0186-4f1e-abab-3792de859273",
   "metadata": {},
   "outputs": [],
   "source": [
    "print(f\"Metadatos{ex_mask_rio.meta}\")"
   ]
  },
  {
   "cell_type": "code",
   "execution_count": null,
   "id": "475cd078-8ddc-405e-a13f-d8c7ba02a881",
   "metadata": {},
   "outputs": [],
   "source": [
    "# Primera capa con las etiquetas\n",
    "ex_labels_mask = ex_mask_rio.read(1)"
   ]
  },
  {
   "cell_type": "code",
   "execution_count": null,
   "id": "5bc5995e-9ad1-4045-be57-8f571cd0afd3",
   "metadata": {},
   "outputs": [],
   "source": [
    "ex_labels_mask"
   ]
  },
  {
   "cell_type": "code",
   "execution_count": null,
   "id": "3d416a56-321b-47ba-80c1-0bc678b5b5c4",
   "metadata": {},
   "outputs": [],
   "source": [
    "# Crear un colormap personalizado para cada una de las etiquetas\n",
    "# según el documento\n",
    "cmap = colors.ListedColormap([\n",
    "    \"#0000ff\",\n",
    "    \"#888888\",\n",
    "    \"#d1a46d\",\n",
    "    \"#f5f5ff\",\n",
    "    \"#d64c2b\",\n",
    "    \"#186818\",\n",
    "    \"#00ff00\"\n",
    "])\n",
    "meaning = [\n",
    "    \"Agua\",\n",
    "    \"Suelo desnudo artificial\",\n",
    "    \"Suelo desnudo natural\",\n",
    "    \"Nieve\",\n",
    "    \"Bosque (Woody soil)\",\n",
    "    \"Terreno cultivado\",\n",
    "    \"Vegetación (semi) natural\"\n",
    "]\n",
    "boundaries = list(range(1,8))\n",
    "norm = colors.BoundaryNorm(boundaries, cmap.N)"
   ]
  },
  {
   "cell_type": "code",
   "execution_count": null,
   "id": "9e92f0ff-abc3-423e-85ec-80b40fe149ee",
   "metadata": {},
   "outputs": [],
   "source": [
    "fig, ax = plt.subplots()\n",
    "img = ax.imshow(ex_mask_rio.read(1), cmap=cmap, norm=norm)\n",
    "cbar = plt.colorbar(img, ax=ax)\n",
    "cbar.set_ticks(boundaries)\n",
    "cbar.set_ticklabels(meaning)\n",
    "cbar.config_axis\n",
    "plt.show()"
   ]
  },
  {
   "cell_type": "code",
   "execution_count": null,
   "id": "3abe0cc8-06ce-4c0a-b2d1-3ab1d959350d",
   "metadata": {},
   "outputs": [],
   "source": [
    "ex_img_cloudmask = glob.glob(f\"{ex_img_folder}/CLD.*\")[0]\n",
    "ex_cloud_mask = rio.open(ex_img_cloudmask)"
   ]
  },
  {
   "cell_type": "code",
   "execution_count": null,
   "id": "ac77ea4d-d026-4ef1-b87c-3d8a0b0d164e",
   "metadata": {},
   "outputs": [],
   "source": [
    "print(f\"Metadatos de la máscara de nubes: {ex_cloud_mask.meta}\")"
   ]
  },
  {
   "cell_type": "code",
   "execution_count": null,
   "id": "78509534-5584-43dd-8ee1-3544be405102",
   "metadata": {},
   "outputs": [],
   "source": [
    "cloud_layer = ex_cloud_mask.read(1)"
   ]
  },
  {
   "cell_type": "code",
   "execution_count": null,
   "id": "c260de82-bc31-4d04-9af1-5a70da6145ac",
   "metadata": {},
   "outputs": [],
   "source": [
    "np.mean(cloud_layer)"
   ]
  },
  {
   "cell_type": "code",
   "execution_count": null,
   "id": "5a7cfdcc-1ae5-4340-b778-ccd9fb2fcfdc",
   "metadata": {},
   "outputs": [],
   "source": [
    "fig, ax = plt.subplots()\n",
    "img = ax.imshow(ex_cloud_mask.read(1), cmap=plt.get_cmap(\"gist_yarg\"))\n",
    "fig.colorbar(img, ax=ax)"
   ]
  }
 ],
 "metadata": {
  "kernelspec": {
   "display_name": "Python [conda env:root] *",
   "language": "python",
   "name": "conda-root-py"
  },
  "language_info": {
   "codemirror_mode": {
    "name": "ipython",
    "version": 3
   },
   "file_extension": ".py",
   "mimetype": "text/x-python",
   "name": "python",
   "nbconvert_exporter": "python",
   "pygments_lexer": "ipython3",
   "version": "3.7.12"
  }
 },
 "nbformat": 4,
 "nbformat_minor": 5
}
