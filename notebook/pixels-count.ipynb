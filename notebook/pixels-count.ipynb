{
 "cells": [
  {
   "cell_type": "markdown",
   "id": "181d0004-5748-4842-bf8b-0b26de5a9439",
   "metadata": {},
   "source": [
    "# Conteo de píxeles en las máscaras"
   ]
  },
  {
   "cell_type": "markdown",
   "id": "bae15369-158a-4699-ba52-bb5f92156958",
   "metadata": {},
   "source": [
    "El objetivo de este notebook es calcular en un archivo **JSON** cuantos pixeles se poseen por cada clase en cada una de las máscaras para emplear estos datos preprocesados en otros notebooks. Para ello, ejecutamos un proceso de carga del raster de cada máscara y contamos cuantos pixeles hay por cada clase, totalizamos y almacenamos el resultado en un archivo."
   ]
  },
  {
   "cell_type": "markdown",
   "id": "b4b98d1e-16bf-46c2-9b18-fd9c9a3575b2",
   "metadata": {},
   "source": [
    "## Librerias"
   ]
  },
  {
   "cell_type": "markdown",
   "id": "aef5d0cc-0c0b-4c2a-91a4-6a38a7866670",
   "metadata": {},
   "source": [
    "Carga de las librerias que vamos a emplear"
   ]
  },
  {
   "cell_type": "code",
   "execution_count": 1,
   "id": "c0e584eb-0ac9-40d9-89f0-6ccfa245f549",
   "metadata": {},
   "outputs": [],
   "source": [
    "from sklearn.preprocessing import MinMaxScaler\n",
    "from typing import List\n",
    "from matplotlib import colors\n",
    "from skimage import exposure\n",
    "from tqdm.notebook import tqdm\n",
    "\n",
    "import rasterio as rio\n",
    "import rasterio.plot as rio_plot\n",
    "import seaborn as sns\n",
    "import matplotlib.pyplot as plt\n",
    "import pandas as pd\n",
    "import numpy as np\n",
    "import glob\n",
    "import json\n",
    "\n",
    "# Semilla pseudoaleatoria\n",
    "np.random.seed(24)\n",
    "\n",
    "# Tamaño de las figuras\n",
    "plt.rcParams[\"figure.figsize\"] = (20,10)\n",
    "\n",
    "# Ruta base de la carpeta de datos\n",
    "DATA_BASE = \"/home/ggonzr_cloud/deeplearn/data\""
   ]
  },
  {
   "cell_type": "markdown",
   "id": "4d61c6a8-4fd1-408f-ba6c-73cd06c62fc0",
   "metadata": {},
   "source": [
    "### Carga de imágenes"
   ]
  },
  {
   "cell_type": "markdown",
   "id": "2e9f1e28-b4c7-4310-930f-7333ee97c75f",
   "metadata": {},
   "source": [
    "A continuación vamos a definir dos variables de acceso a la ruta de las imagenes satelitales en el sistema de archivos al igual que para las máscaras."
   ]
  },
  {
   "cell_type": "code",
   "execution_count": 2,
   "id": "f83466ea-ec7e-4af0-a650-a7a9e8dd1cc7",
   "metadata": {},
   "outputs": [],
   "source": [
    "# Directorios de las etiquetas y la imagenes\n",
    "LABEL_DIR = f\"{DATA_BASE}/ref_landcovernet_v1_labels\"\n",
    "IMAGE_DIR = f\"{DATA_BASE}/ref_landcovernet_v1_source\""
   ]
  },
  {
   "cell_type": "code",
   "execution_count": 3,
   "id": "9d5da36d-e85e-4014-ad12-24c5c520fd5f",
   "metadata": {},
   "outputs": [
    {
     "name": "stdout",
     "output_type": "stream",
     "text": [
      "Número de etiquetas disponibles: 1982\n"
     ]
    }
   ],
   "source": [
    "# Listar los subdirectorios de cada carpeta: Etiquetas\n",
    "label_dirs = glob.glob(f\"{LABEL_DIR}/*\")\n",
    "print(f\"Número de etiquetas disponibles: {len(label_dirs)}\")"
   ]
  },
  {
   "cell_type": "code",
   "execution_count": 4,
   "id": "9d4c3733-e58c-45a3-b0a7-dab5981dfb93",
   "metadata": {},
   "outputs": [
    {
     "name": "stdout",
     "output_type": "stream",
     "text": [
      "Número de etiquetas disponibles: 82430\n"
     ]
    }
   ],
   "source": [
    "# Listar los subdirectorios de cada carpeta: Etiquetas\n",
    "image_dirs = glob.glob(f\"{IMAGE_DIR}/*\")\n",
    "print(f\"Número de etiquetas disponibles: {len(image_dirs)}\")"
   ]
  },
  {
   "cell_type": "markdown",
   "id": "1ee1fd22-a841-4b11-9d3b-946cc63bb17b",
   "metadata": {},
   "source": [
    "En las siguientes dos celdas podrá observar un ejemplo de la ruta de acceso tanto de las imagenes satelitales como de sus etiquetas. Cada una de ellas se representa en una carpeta"
   ]
  },
  {
   "cell_type": "code",
   "execution_count": 5,
   "id": "7095cf73-87d9-4971-a93d-8c92fe7bf9ff",
   "metadata": {},
   "outputs": [
    {
     "data": {
      "text/plain": [
       "'/home/ggonzr_cloud/deeplearn/data/ref_landcovernet_v1_labels/ref_landcovernet_v1_labels_36PZC_07'"
      ]
     },
     "execution_count": 5,
     "metadata": {},
     "output_type": "execute_result"
    }
   ],
   "source": [
    "label_dirs[0]"
   ]
  },
  {
   "cell_type": "code",
   "execution_count": 6,
   "id": "56026921-8af7-4b89-9ff1-73d8bb7b9e15",
   "metadata": {},
   "outputs": [
    {
     "data": {
      "text/plain": [
       "'/home/ggonzr_cloud/deeplearn/data/ref_landcovernet_v1_source/ref_landcovernet_v1_source_33LYE_11_20180818'"
      ]
     },
     "execution_count": 6,
     "metadata": {},
     "output_type": "execute_result"
    }
   ],
   "source": [
    "image_dirs[0]"
   ]
  },
  {
   "cell_type": "markdown",
   "id": "11ba9e04-d65d-4cc5-9db8-d8c5c30bb70c",
   "metadata": {},
   "source": [
    "# Conteo de pixeles por las etiquetas"
   ]
  },
  {
   "cell_type": "markdown",
   "id": "769d7efc-6c28-4795-99e1-47331f15d07c",
   "metadata": {},
   "source": [
    "En la siguiente celta definimos una función auxiliar para crear un cáscaron de la respuesta que vamos a almacenar. Esta función retorna un valor por defecto cuyos valores serán cambiados cuando haya calculado la respuesta"
   ]
  },
  {
   "cell_type": "code",
   "execution_count": 7,
   "id": "a11799fb-a278-4682-82d5-aa550992ae1e",
   "metadata": {},
   "outputs": [],
   "source": [
    "def create_response() -> dict:\n",
    "    labels_tag = list(range(1,8))\n",
    "    zeros_list = np.zeros(len(labels_tag))\n",
    "    zeros_list = zeros_list.tolist()\n",
    "    cont_dict = dict(zip(labels_tag, zeros_list))\n",
    "    cont_dict[\"chip_id\"] = \"\"\n",
    "    cont_dict[\"label_folder\"] = \"\"\n",
    "    return cont_dict"
   ]
  },
  {
   "cell_type": "markdown",
   "id": "9b09e3c4-a8e1-4510-8fa3-539f9915bfd2",
   "metadata": {},
   "source": [
    "En la siguiente función recibimos la ruta de carga de la máscara para cargarla, contar los pixeles por cada clase y retornar una repuesta con el número de pixeles por cada clase, el ID de la máscara y la ruta de esta máscara en el sistema de archivos"
   ]
  },
  {
   "cell_type": "code",
   "execution_count": 8,
   "id": "daba47ba-0f37-4043-b5fc-a11cd49dfba5",
   "metadata": {},
   "outputs": [],
   "source": [
    "def pixel_count(path_label: str) -> dict:\n",
    "    folder_name = path_label.split(\"/\")[-1]\n",
    "    name_split = folder_name.split(\"_\")\n",
    "    chip_name = f\"{name_split[-2]}_{name_split[-1]}\"\n",
    "    \n",
    "    label_shape = glob.glob(f\"{path_label}/label*\")[0]    \n",
    "    \n",
    "    # Cargar la mascara\n",
    "    label_mask = None\n",
    "    with rio.open(label_shape, 'r') as rf:\n",
    "        label_mask = rf.read(1)\n",
    "    \n",
    "    # Realizar el conteo\n",
    "    class_tag, pix_count = np.unique(label_mask, return_counts=True)\n",
    "    class_tag = class_tag.tolist()\n",
    "    pix_count = pix_count.tolist()\n",
    "    \n",
    "    # Instanciar diccionario de retorno\n",
    "    rsp = create_response()\n",
    "    \n",
    "    # Retorno\n",
    "    pix_dict = dict(zip(class_tag, pix_count))\n",
    "    pix_dict[\"chip_id\"] = chip_name\n",
    "    pix_dict[\"label_folder\"] = path_label\n",
    "    \n",
    "    return {**rsp, **pix_dict}"
   ]
  },
  {
   "cell_type": "code",
   "execution_count": 9,
   "id": "666fe212-31e1-460a-ad27-f1db89e49e12",
   "metadata": {},
   "outputs": [],
   "source": [
    "# Procesamiento\n",
    "process_result = []"
   ]
  },
  {
   "cell_type": "code",
   "execution_count": 10,
   "id": "88e85c17-63af-485e-890d-b7df32fe46ec",
   "metadata": {},
   "outputs": [
    {
     "data": {
      "application/vnd.jupyter.widget-view+json": {
       "model_id": "1f304f69a98d4f44a02b2948d25be518",
       "version_major": 2,
       "version_minor": 0
      },
      "text/plain": [
       "  0%|          | 0/1982 [00:00<?, ?it/s]"
      ]
     },
     "metadata": {},
     "output_type": "display_data"
    }
   ],
   "source": [
    "for lf in tqdm(label_dirs):\n",
    "    try:\n",
    "        pxd = pixel_count(lf)\n",
    "        process_result.append(pxd)    \n",
    "    except:\n",
    "        continue"
   ]
  },
  {
   "cell_type": "markdown",
   "id": "723b6216-2def-47d8-a14a-b6beaf568f87",
   "metadata": {},
   "source": [
    "Cuando el proceso termine, almacenamos el resultado en el archivo **JSON** denominado **pixel_report.json**"
   ]
  },
  {
   "cell_type": "code",
   "execution_count": 11,
   "id": "d2d0a121-e925-415d-86b9-ea25bdc2696e",
   "metadata": {},
   "outputs": [],
   "source": [
    "# Guardar datos\n",
    "with open(f\"{DATA_BASE}/pixel_report.json\", \"w\", encoding=\"utf-8\") as v_f:\n",
    "    json.dump(process_result, v_f, ensure_ascii=False, indent=4)"
   ]
  }
 ],
 "metadata": {
  "kernelspec": {
   "display_name": "Python 3 (ipykernel)",
   "language": "python",
   "name": "python3"
  },
  "language_info": {
   "codemirror_mode": {
    "name": "ipython",
    "version": 3
   },
   "file_extension": ".py",
   "mimetype": "text/x-python",
   "name": "python",
   "nbconvert_exporter": "python",
   "pygments_lexer": "ipython3",
   "version": "3.9.5"
  }
 },
 "nbformat": 4,
 "nbformat_minor": 5
}
